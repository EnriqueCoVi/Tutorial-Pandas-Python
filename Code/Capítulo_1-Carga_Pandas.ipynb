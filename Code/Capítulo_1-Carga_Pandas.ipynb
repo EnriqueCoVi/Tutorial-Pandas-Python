{
 "cells": [
  {
   "cell_type": "markdown",
   "metadata": {
    "collapsed": true
   },
   "source": [
    "Cargando datos en Pandas\n",
    "========================\n",
    "\n",
    "Objetivo\n",
    "--------\n",
    "La finalidad de este capítulo es mostrar como cargar datos desde un archivo tipo csv, pero **Pandas** soporta más tipo de archivos. Debido a que el módulo tiene estructudas de datos que facilitan la manipulación de los datos al leerse desde un archivo, entonces explico un poco sobre el módulo Numpy y las Series y DataFrame que son estruturas de datos en Pandas.\n",
    "\n",
    "Algunas comparaciones con R\n",
    "---------------------------\n",
    "La primera tarea que yo analizar datos es evidentemente *cargar* los datos que proviene de alguna fuente( base de datos) o archivo. Considerando la semejanza de **Pandas** con el uso de **R**, para mi las primeras tareas después de cargar los datos es revisar propiedades como tamaño o *dim()*, leer los primeros o los últimos registros *head()* o *tail()*, explorar el tipo de variables que tienen la muestra de datos *struct()* o explorar la existencia de registros nulos o **NA**, ver el resumen de los estadísticos básicos de las variables. Desde mi punto de vista, conociendo esa primera información uno puede iniciar un análisis exploratorio mucho más robusto.\n",
    "\n",
    "El módulo **Pandas** tiene estructuras de datos para procesar la información con nombre similar a las de **R**, son los **DataFrame**. Las librerías de R que permiten operar los datos del mismo modo que Pandas son *ddply* y *reshape2*, el resto de operaciones para manipular DataFrame tienen un equivalente en las dos tecnologías.\n"
   ]
  },
  {
   "cell_type": "markdown",
   "metadata": {
    "collapsed": true
   },
   "source": [
    "Algunas cosas previas a cargar datos.\n",
    "------------------------------------\n",
    "\n",
    "Debido a que al cargar los datos desde alguna archivo o fuente, ya sea en formato csv, excel, xml, json o desde algúna base Mysql, etc. Serán cargados en Ipython como Data.Frame o Series, pero estas estructuras en **Pandas** tienen como base el manejo de **matrices** con **Numpy**. Por eso comento algunas cosas sobre Numpy.\n",
    "\n",
    "En resumen, creo que es bueno antes de cargar datos, saber algo sobre las estructuras de datos en Pandas y a su vez creo importante saber un poco sobre lo que permite la creación de las estructuras en Pandas, que es el módulo Numpy."
   ]
  },
  {
   "cell_type": "markdown",
   "metadata": {},
   "source": [
    "**Numpy**\n"
   ]
  },
  {
   "cell_type": "markdown",
   "metadata": {},
   "source": [
    "En breve, este módulo permite el tratamiento de matrices y arrays, cuenta con funciones estándar de matemáticas, algunas funciones estadísticas básicas, permite la generación de números aleatorios, operaciones de álgebra lineal y análisis de Fourier, entre otras operaciones y funciones. Quizás esto no suena muy interesante, pero el módulo tiene la calidad suficiente para hacer cálculos no triviales y a buena velocidad, con respecto a **C** o **C++**.\n",
    "\n",
    "Siempre los ejemplos que se hacen de Numpy explican cosas como: la contrucción de matrices y arrays, operaciones entre matrices y arrays, como usar la *vectorización* de las matrices, selección de filas y columnas, copia y eliminación de entradas, etc. En mi caso pienso que aprendo mejor con ejemplos de como usar algunas de las funciones o herramientas del módulo, que solo leyendo las teoria y operaciones. Una de las mejores fuentes para conocer Numpy es el tutorial de la página oficial de la librería.\n",
    "*  Tutorial Numpy:  https://docs.scipy.org/doc/numpy-dev/user/quickstart.html\n",
    "\n",
    "Los 3 ejemplos son sencillos y muestran como usar Numpy para 3 tipos de problemas, uno tiene caracter de análisis numérico, calculos de una cadena de markov y el últmo es una aplicación de las cadenas de Markov (el algoritmo PageRank de manera rupestre)."
   ]
  },
  {
   "cell_type": "markdown",
   "metadata": {},
   "source": [
    "**Regiones de Estabilidad Absoluta calculados con Numpy**\n",
    "\n",
    "El concepto de región de estabilidad absoluta tiene su origen en análisis numérico, es un método por medio del cual se analiza la estabilidad de las soluciones de una ecuación diferencial ordinaria. No doy detalles mayores del problema, pero se puede leer el artículo de [Juan Luis Cano](http://pybonacci.org/2012/04/27/regiones-de-estabilidad-de-metodos-numericos-en-python/), y sobra decir que el código del ejemplo es original su publicación en su sitio.\n",
    "\n",
    "Ejemplo\n",
    "=======\n",
    "\n",
    "~~~\n",
    "\n",
    " -*- coding: utf-8 -*-\n",
    "\n",
    "* Región de estabilidad absoluta\n",
    "* Juan Luis Cano Rodríguez\n",
    "\n",
    "import numpy as np\n",
    "def region_estabilidad(p, X, Y):\n",
    "  \n",
    "  \"\"\"Región de estabilidad absoluta\n",
    "     Computa la región de estabilidad absoluta de un método numérico, dados\n",
    "     los coeficientes de su polinomio característico de estabilidad.\n",
    "    Argumentos\n",
    "    ----------\n",
    "    p : function\n",
    "        Acepta un argumento w y devuelve una lista de coeficientes\n",
    "    X, Y : numpy.ndarray\n",
    "        Rejilla en la que evaluar el polinomio de estabilidad generada por\n",
    "        numpy.meshgrid\n",
    "    Devuelve\n",
    "    --------\n",
    "    Z : numpy.ndarray\n",
    "        Para cada punto de la malla, máximo de los valores absolutos de las\n",
    "        raíces del polinomio de estabilidad\n",
    "    Ejemplos\n",
    "    --------\n",
    "    >>> import numpy as np\n",
    "    >>> x = np.linspace(-3.0, 1.5)\n",
    "    >>> y = np.linspace(-3.0, 3.0)\n",
    "    >>> X, Y = np.meshgrid(x, y)\n",
    "    >>> Z = region_estabilidad(lambda w: [1,\n",
    "    ... -1 - w - w ** 2 / 2 - w ** 3 / 6 - w ** 4 / 24], X, Y)  # RK4\n",
    "    >>> import matplotlib.pyplot as plt\n",
    "    >>> cs = plt.contour(X, Y, Z, np.linspace(0.05, 1.0, 9))\n",
    "    >>> plt.clabel(cs, inline=1, fontsize=10)  # Para etiquetar los contornos\n",
    "    >>> plt.show()\n",
    "    \"\"\"\n",
    "    Z = np.zeros_like(X)\n",
    "    w = X + Y * 1j\n",
    "   \n",
    "    for j in range(len(X)):\n",
    "        for i in range(len(Y)):\n",
    "            r = np.roots(p(w[i, j]))\n",
    "            Z[i, j] = np.max(abs(r if np.any(r) else 0))\n",
    "    return Z\n",
    "~~~\n",
    "Podemos guardar este código en un script o se puede cargar directamente a la consola, en caso de hacerlo en ipython se puede hacer uso del comando **%paste**."
   ]
  },
  {
   "cell_type": "code",
   "execution_count": 1,
   "metadata": {
    "collapsed": false
   },
   "outputs": [],
   "source": [
    "#\n",
    "# Región de estabilidad absoluta\n",
    "# Juan Luis Cano Rodríguez\n",
    "import numpy as np\n",
    "def region_estabilidad(p, X, Y):\n",
    "    \"\"\"Región de estabilidad absoluta\n",
    "    Computa la región de estabilidad absoluta de un método numérico, dados\n",
    "    los coeficientes de su polinomio característico de estabilidad.\n",
    "    Argumentos\n",
    "    ----------\n",
    "    p : function\n",
    "        Acepta un argumento w y devuelve una lista de coeficientes\n",
    "    X, Y : numpy.ndarray\n",
    "        Rejilla en la que evaluar el polinomio de estabilidad generada por\n",
    "        numpy.meshgrid\n",
    "    Devuelve\n",
    "    --------\n",
    "    Z : numpy.ndarray\n",
    "        Para cada punto de la malla, máximo de los valores absolutos de las\n",
    "        raíces del polinomio de estabilidad\n",
    "    Ejemplos\n",
    "    --------\n",
    "    >>> import numpy as np\n",
    "    >>> x = np.linspace(-3.0, 1.5)\n",
    "    >>> y = np.linspace(-3.0, 3.0)\n",
    "    >>> X, Y = np.meshgrid(x, y)\n",
    "    >>> Z = region_estabilidad(lambda w: [1,\n",
    "    ... -1 - w - w ** 2 / 2 - w ** 3 / 6 - w ** 4 / 24], X, Y)  # RK4\n",
    "    >>> import matplotlib.pyplot as plt\n",
    "    >>> cs = plt.contour(X, Y, Z, np.linspace(0.05, 1.0, 9))\n",
    "    >>> plt.clabel(cs, inline=1, fontsize=10)  # Para etiquetar los contornos\n",
    "    >>> plt.show()\n",
    "    \"\"\"\n",
    "    Z = np.zeros_like(X)\n",
    "    w = X + Y * 1j\n",
    "   \n",
    "    for j in range(len(X)):\n",
    "        for i in range(len(Y)):\n",
    "            r = np.roots(p(w[i, j]))\n",
    "            Z[i, j] = np.max(abs(r if np.any(r) else 0))\n",
    "    return Z"
   ]
  },
  {
   "cell_type": "markdown",
   "metadata": {
    "collapsed": true
   },
   "source": [
    "Para ver un ejemplo de su uso, realiza lo siguiente:\n",
    "*  Se define las regiones x e y.\n",
    "*  Se define un polinomio para probar la definición de la región.\n",
    "*  Se utiliza la función region_estabilidad y se grafica el resultado."
   ]
  },
  {
   "cell_type": "code",
   "execution_count": 2,
   "metadata": {
    "collapsed": false
   },
   "outputs": [],
   "source": [
    "#Se define la región\n",
    "x = np.linspace(-3.0, 1.5)\n",
    "y = np.linspace(-3.0, 3.0)\n",
    "X, Y = np.meshgrid(x, y)"
   ]
  },
  {
   "cell_type": "code",
   "execution_count": 3,
   "metadata": {
    "collapsed": true
   },
   "outputs": [],
   "source": [
    "#Se define el polinomio\n",
    "def p(w):\n",
    "       return [1, -1 - w - w ** 2 / 2 - w ** 3 / 6 - w ** 4 / 24]"
   ]
  },
  {
   "cell_type": "code",
   "execution_count": 5,
   "metadata": {
    "collapsed": false
   },
   "outputs": [
    {
     "data": {
      "image/png": "[encoded data removed]",
      "text/plain": [
       "<matplotlib.figure.Figure at 0x7fd5e7bea450>"
      ]
     },
     "metadata": {},
     "output_type": "display_data"
    }
   ],
   "source": [
    "Z = region_estabilidad(p, X, Y)\n",
    "%matplotlib inline\n",
    "import matplotlib.pyplot as plt\n",
    "plt.rcParams['figure.figsize']=(20,7)\n",
    "plt.contour(X, Y, Z, np.linspace(0.0, 1.0, 9))\n",
    "plt.show()"
   ]
  },
  {
   "cell_type": "markdown",
   "metadata": {},
   "source": [
    "El ejemplo anterior muestra el uso de Numpy como una biblioteca o módulo que permite hacer manipulación de matrices y como la calidad del procesamiento numérico perminte considarar su uso en problemas de métodos numéricos."
   ]
  },
  {
   "cell_type": "markdown",
   "metadata": {},
   "source": [
    "**Problema del laberito con Numpy**\n",
    "\n",
    "El problema tiene el mismo nombre que un ejemplo del uso del algoritmo Backtracking para solución de problemas por \"fuerza bruta\", respecto a esa técnica se puede consultar el brog de [JC Gómez](https://ic1800a2011.wordpress.com/2013/11/11/030-backtracking-el-problema-del-laberinto/).\n",
    "\n",
    "El ejemplo que comparto tienen que ver más con el uso de [Cadenas de Markov](https://es.wikipedia.org/wiki/Cadena_de_M%C3%A1rkov), el ejemplo es solo para mostrar como funcionan y como se hace uso de ellas para resolver el problema con ciertos supuestos iniciales y como hacerlo con numpy.\n",
    "\n",
    "Suponemos que se colocará un dispositivo que se puede desplazar y pasar de área como en el cuadro siguiente:\n",
    "![Laberinto](Imagenes/Laberinto.png)",
    "\n",
    "La idea es que puede pasar del cuadro 1 hacia el 2 o el 4, si empieza en el cuadro 2 puede pasar del 1 al 3, pero si inicia en el 5 solo puede pasar al 6, etc. \n",
    "\n",
    "Entonces lo que se plantea es que si inicia en el cuadro 1 y pasa al 2, eso solo depende de haber estado en el cuadro 1, si se pasa al cuadro 3 solo depende del estado 2, no de haber estado en el estado 1. Entonces la idea de los procesos de Markov es que para conocer si se pasará al cuadro 3 iniciando en el cuadro 1 solo se requiere conocer los pasos previos.\n",
    "\n",
    "En lenguaje de probabilidad se expresa así:\n",
    "\\begin{align}\n",
    " P(X_{n}|X_{n-1},X_{n-2},...,X_{1}) = P(X_{n}|X_{n-1})\\\\\\\\[5pt]\n",
    "\\end{align}\n",
    "\n",
    "Entonces los supuestos son que se tienen 6 posibles estados iniciales o lugares desde donde iniciar, el cuadro 1 hasta el cuadro 6. Se hace una matriz que concentra la información ordenada de la relación entre los posibles movimientos entre cuadros contiguos. Entonces la relación de estados es:\n",
    "\n",
    "\\begin{align}\n",
    " p_{ij}= P(X_{n}=j|X_{n-1}=i)\\\\\\\\[5pt]\n",
    "\\end{align}\n",
    "\n",
    "Donde se refiere a la probabilidad de estar en el cuadro **j** si se estaba en el estado **i**, para el cuadro 2 las probabilidades serían:\n",
    "\n",
    "\\begin{align}\n",
    " p_{21}= P(X_{n}=1|X_{n-1}=2)\\\\\\\\[5pt]\n",
    " p_{23}= P(X_{n}=3|X_{n-1}=2)\\\\\\\\[5pt]\n",
    "      0= P(X_{n}=4|X_{n-1}=2)\\\\\\\\[5pt]\n",
    "      0= P(X_{n}=5|X_{n-1}=2)\\\\\\\\[5pt]\n",
    "      0= P(X_{n}=6|X_{n-1}=2)\\\\\\\\[5pt]     \n",
    "\\end{align}\n",
    "\n",
    "Visto como matriz se vería como:\n",
    "\n",
    "\\begin{array}{ccc}\n",
    "p_{11} & p_{12} & p_{13} & p_{14} & p_{15} & p_{16} \\\\\n",
    "p_{21} & p_{22} & p_{23} & p_{24} & p_{25} & p_{26} \\\\\n",
    "p_{31} & p_{32} & p_{33} & p_{34} & p_{35} & p_{36}\\\\\n",
    "p_{41} & p_{42} & p_{43} & p_{44} & p_{45} & p_{46}\\\\\n",
    "p_{51} & p_{52} & p_{53} & p_{54} & p_{55} & p_{56}\\\\\n",
    "p_{61} & p_{62} & p_{63} & p_{64} & p_{65} & p_{66}\\end{array}\n",
    "\n",
    "Matriz anterior se llama **matriz de transición**, para este ejemplo es de la forma siguiente:\n",
    "\n",
    "\\begin{array}{ccc}\n",
    "\\frac{1}{3} & \\frac{1}{3}  & 0 & \\frac{1}{3}  & 0 & 0 \\\\\n",
    "\\frac{1}{3} & \\frac{1}{3} & \\frac{1}{3} & 0 & 0 & 0 \\\\\n",
    "    0 & \\frac{1}{3} & \\frac{1}{3} & 0 & 0 & \\frac{1}{3}\\\\\n",
    "\\frac{1}{2} & 0 & 0 & \\frac{1}{2} & 0 & 0\\\\\n",
    " 0 & 0 & 0 & 0 & \\frac{1}{2} & \\frac{1}{2}\\\\\n",
    " 0 & 0 & \\frac{1}{3} & 0 & \\frac{1}{3} & \\frac{1}{3}\\end{array}\n",
    "\n",
    "Se tienen entonces si la probabilidad de iniciar en cualquier estado es 1/6, entonces se tienen que la probabilidad despues de dos movimientos o cambios será la matriz de transición multiplicada por si misma en dos ocasiones, se vería así:\n",
    "Vector de estados iniciales:\n",
    "\\begin{align}\n",
    "     v=(\\frac{1}{6},\\frac{1}{6},\\frac{1}{6},\\frac{1}{6},\\frac{1}{6},\\frac{1}{6})\\\\\n",
    "\\end{align}\n",
    "\n",
    "En el primer estado sería:\n",
    "\\begin{align}\n",
    "     v*M\n",
    "\\end{align}\n",
    "\n",
    "En el segundo estado sería:\n",
    "\\begin{align}\n",
    "     v*M^2\n",
    "\\end{align}\n",
    "\n",
    "Asi lo que se tendrá es la probabilidad de estar en cualqueir cuadro para un segundo movimiento, hace esto en Numpy pensando en que es para procesar matrices resulta sencillo. Solo basta definir la matriz, hacer producto de matrices y vectores."
   ]
  },
  {
   "cell_type": "code",
   "execution_count": 6,
   "metadata": {
    "collapsed": false
   },
   "outputs": [
    {
     "data": {
      "text/plain": [
       "matrix([[ 0.33333333,  0.33333333,  0.        ,  0.33333333,  0.        ,\n",
       "          0.        ],\n",
       "        [ 0.33333333,  0.33333333,  0.33333333,  0.        ,  0.        ,\n",
       "          0.        ],\n",
       "        [ 0.        ,  0.33333333,  0.33333333,  0.        ,  0.        ,\n",
       "          0.33333333],\n",
       "        [ 0.5       ,  0.        ,  0.        ,  0.5       ,  0.        ,\n",
       "          0.        ],\n",
       "        [ 0.        ,  0.        ,  0.        ,  0.        ,  0.5       ,\n",
       "          0.5       ],\n",
       "        [ 0.        ,  0.        ,  0.33333333,  0.        ,  0.33333333,\n",
       "          0.33333333]])"
      ]
     },
     "execution_count": 6,
     "metadata": {},
     "output_type": "execute_result"
    }
   ],
   "source": [
    "#Definición de la matriz\n",
    "import numpy as np\n",
    "M=np.matrix([[1.0/3.0,1.0/3.0,0,1.0/3.0,0,0],[1.0/3.0,1.0/3.0,1.0/3.0,0,0,0],[0,1.0/3.0,1.0/3.0,0,0,1.0/3.0],\n",
    "             [1.0/2.0,0,0,1.0/2.0,0,0],[0,0,0,0,1.0/2.0,1.0/2.0],[0,0,1.0/3.0,0,1.0/3.0,1.0/3.0]])\n",
    "M\n",
    "\n"
   ]
  },
  {
   "cell_type": "code",
   "execution_count": 7,
   "metadata": {
    "collapsed": true
   },
   "outputs": [],
   "source": [
    "#Definición del vector de estados iniciales\n",
    "v=np.array([1.0/3.0,1.0/3.0,1.0/3.0,1.0/3.0,1.0/3.0,1.0/3.0])"
   ]
  },
  {
   "cell_type": "code",
   "execution_count": 8,
   "metadata": {
    "collapsed": false
   },
   "outputs": [
    {
     "data": {
      "text/plain": [
       "matrix([[ 0.38888889,  0.33333333,  0.33333333,  0.27777778,  0.27777778,\n",
       "          0.38888889]])"
      ]
     },
     "execution_count": 8,
     "metadata": {},
     "output_type": "execute_result"
    }
   ],
   "source": [
    "#Primer estado o movimiento\n",
    "v*M"
   ]
  },
  {
   "cell_type": "code",
   "execution_count": 9,
   "metadata": {
    "collapsed": false
   },
   "outputs": [
    {
     "data": {
      "text/plain": [
       "matrix([[ 0.37962963,  0.35185185,  0.35185185,  0.26851852,  0.26851852,\n",
       "          0.37962963]])"
      ]
     },
     "execution_count": 9,
     "metadata": {},
     "output_type": "execute_result"
    }
   ],
   "source": [
    "#Segundo movimiento\n",
    "v*M.dot(M)"
   ]
  },
  {
   "cell_type": "code",
   "execution_count": 10,
   "metadata": {
    "collapsed": false
   },
   "outputs": [
    {
     "data": {
      "text/plain": [
       "matrix([[ 0.37537747,  0.37327818,  0.37327818,  0.25134435,  0.25134435,\n",
       "          0.37537747]])"
      ]
     },
     "execution_count": 10,
     "metadata": {},
     "output_type": "execute_result"
    }
   ],
   "source": [
    "#Tercer Movimiento\n",
    "v.dot(M).dot(M).dot(M).dot(M).dot(M).dot(M).dot(M)"
   ]
  },
  {
   "cell_type": "markdown",
   "metadata": {},
   "source": [
    "Si se procede ha seguir incrementando los estados o cambios se \"estabiliza\"; es decir, el cambio en la probabilidad de estar en la caja 1 después de tercer movimiento es **37.53%**, lo cual tiende a quedarse en **37.5%** al incrementar los movimientos.  "
   ]
  },
  {
   "cell_type": "markdown",
   "metadata": {},
   "source": [
    "**Ejemplo de PageRank de manera rupestre, calcuado con Numpy**\n",
    "\n",
    "El algoritmo para generar un Ranking en las páginas web fue desarrollado e implementado por los fundadores de Google, no profundizo en los detalles pero en general la idea es la siguiente:\n",
    "\n",
    "*  Representar la Web como un gráfo dirigido.\n",
    "*  Usar la matriz asociada a un grafo para analizar el comportamiento de la web bajo ciertos supuestos.\n",
    "*  Agregar al modelo base lo necesario para que se adapate a la naturaleza de la web de mejor manera.\n",
    "\n",
    "El primer objetivo es representar cada página como un vértice de un [grafo](https://es.wikipedia.org/wiki/Grafo) y una arista representa la relación de la página a otra página; es decir, si dentro de la página **A** se hace referencia a la página **B**, entonces se agrega una \"flecha\", por lo tanto un ejemplo sencillo lo representa el siguiente grafo:\n",
    "![Grafo 1](Imagenes/PageRank1.png)\n",
    "\n",
    "La imagen anterior representa un gráfo donde se simula que hay relación entre 3 páginas, la flecha indica el direccionamiento de una página a otra. Entonces para modelar la relación entre las páginas lo que se usa es [matriz de adyacencia](https://es.wikipedia.org/wiki/Matriz_de_adyacencia), esta matriz concentra la información de las relaciones entre nodos. La matriz adyacente de ese gráfo sería como:\n",
    "\n",
    "\\begin{array}{ccc}\n",
    ".33 & .5 & 1 \\\\\n",
    ".33 & 0 & 0 \\\\\n",
    ".33 & .5 & 0 \\end{array}\n",
    "\n",
    "Esta matriz es una matriz de Markov por columnas, cada una suma 1, el objetivo es que se tenga un vector con el ranking del orden de las páginas por prioridad al iniciar la búsqueda en internet y después de hacer uso de la matriz se puede conocer cual es el orden de prioridad.\n",
    "\n",
    "Así que suponiendo que cualquiera de las 3 páginas tienen la misma probabilidad de ser la página inicial, se tienen que el vector inicial es:\n",
    "\n",
    "\\begin{align}\n",
    "     v=(.33,.33,.33)\\\\\n",
    "\\end{align}\n",
    "\n",
    "Después de usar la matriz la ecuación que nos permitiría conocer el mejor ranking de las páginas sería:\n",
    "\n",
    "\\begin{align}\n",
    "     v=M*v\n",
    "\\end{align}\n",
    "\n",
    "Entonces el problema se pasa a resolver un problema de vectores propios y valores propios, por lo tanto el problema sería calcularlos.  \n",
    "\\begin{align}\n",
    "     M*v=\\lambda*v\n",
    "\\end{align}\n"
   ]
  },
  {
   "cell_type": "code",
   "execution_count": 11,
   "metadata": {
    "collapsed": false
   },
   "outputs": [
    {
     "data": {
      "text/plain": [
       "(array([ 0.99453684+0.j        , -0.33226842+0.23559302j,\n",
       "        -0.33226842-0.23559302j]),\n",
       " matrix([[-0.85789293+0.j        , -0.70936247+0.j        , -0.70936247-0.j        ],\n",
       "         [-0.28465981+0.j        ,  0.46882218+0.33241567j,\n",
       "           0.46882218-0.33241567j],\n",
       "         [-0.42777156+0.j        ,  0.23537727-0.33332868j,\n",
       "           0.23537727+0.33332868j]]))"
      ]
     },
     "execution_count": 11,
     "metadata": {},
     "output_type": "execute_result"
    }
   ],
   "source": [
    "import numpy as np\n",
    "M=np.matrix([[.33,.5,1],[.33,0,0],[.33,.5,0]])\n",
    "lambda1,v=np.linalg.eig(M)\n",
    "lambda1,v"
   ]
  },
  {
   "cell_type": "markdown",
   "metadata": {},
   "source": [
    "El ejemplo anterior tiene 3 vectores propios y 3 valores propios, pero no refleja el problema en general de la relación entre las páginas web, ya que podría suceder que una página no tienen referencias a ninguan otra salvo a si misma o tienen solo referencias a ella y ella a ninguna, ni a si misma. Entonces un caso más general sería representado como el gráfo siguiente:\n",
    "![Grafo 1](Imagenes/PageRank2.png)\n",
    "\n",
    "En el grafo se tiene un nodo **D** y **E**, los cuales muestran un comportamiento que no se reflejaba en el grafo anterior. El nodo **E** y **D** no tienen salidas a otros nodos o páginas.\n",
    "\n",
    "La matriz asociada para este gráfo resulta ser la siguiente:\n",
    "\n",
    "\\begin{array}{ccccc}\n",
    ".33 & .25 & 0.5 & 0 & 0 \\\\\n",
    ".33 & 0 & 0 & 0 & 0 \\\\\n",
    ".33 & .25 & 0 & 0 & 0\\\\\n",
    " 0 & .25 & 0.5  & 1 & 0\\\\\n",
    " 0 & .25 & 0 & 0 & 1 \\end{array}\n",
    " \n",
    " Se observa que para esta matriz no cada columna tienen valor 1, ejemplo la correspondiente a la columna **D** tienen todas sus entradas 0. Entonces el algoritmo de PageRank propone modificar la matriz adyacencia y agregarle una matriz que la compensa.\n",
    " \n",
    " La ecuación del siguiente modo:\n",
    " \n",
    "\\begin{align}\n",
    "     A=\\beta*M + (1-\\beta)*\\frac{1}{n}*e*e^T\n",
    "\\end{align}\n",
    "\n",
    "Lo que sucede con esta ecuación, es que las columnas como la correspiente el nodo **D** toman valores que en suma dan 1, en caso como el nodo **E** se \"perturban\" de modo que permite que el algoritmo no se quede antorado en ese tipo de nodos. Si se considera la misma hipótesis de que inicialmente se tienen la misma probabilidad de estar en cualquiera de las páginas (nodos) entonces se considera ahora solo un vector de tamaño 5 en lugar de 3, el cual se vería así:\n",
    "\n",
    "\\begin{align}\n",
    "     v=(.33,.33,.33,.33,.33)\\\\\n",
    "\\end{align}\n",
    "\n",
    "El coeficiente **beta** toma valores de entre 0.8 y 0.9, suelen considerarse 0.85 su valor o por lo menos es el que se suponía se usaba por parte de Google, en resumen este parámetros es de control. La letra **e** representa un vector de a forma *v=(1,1,1,1,1)*, el producto con su traspuesta genera una matriz cuadrada la cual al multiplicarse por *1/n* tiene una matriz de Markov.\n",
    "\n",
    "La matriz A ya es objeto de poder calcular el vector y valor propio, sin entrar en detalle esta puede cumple condiciones del teorema de Perron y de Frobenius, lo cual en resumen implica que se busque calcular u obtener el \"vector dominando\". \n",
    "\n",
    "Pensando en el calculo de los vectores y valores propios para una matriz como la asociada al grafo de ejemplo resulta trivial el cálculo, pero para el caso de millones de nodos sería computacionalmente muy costoso por lo cual lo que se usa es hacer un proceso de aproximación el cual convege \"rápido\" y fue parte del secreto para que las busquedas y el ranking de las páginas fuera mucho más rápido.\n",
    "\n",
    "El código de la estimación en numpy sería el siguente:"
   ]
  },
  {
   "cell_type": "code",
   "execution_count": 12,
   "metadata": {
    "collapsed": false
   },
   "outputs": [
    {
     "name": "stdout",
     "output_type": "stream",
     "text": [
      "Interación 1\n",
      "\n",
      "[[ 0.198  0.2    0.2    0.2    0.2  ]]\n",
      "Interación 2\n",
      "\n",
      "[[ 0.19734  0.1995   0.199    0.2      0.2    ]]\n",
      "Interación 3\n",
      "\n",
      "[[ 0.1966272  0.199085   0.19867    0.2        0.2      ]]\n",
      "Interación 4\n",
      "\n",
      "[[ 0.19614613  0.1988243   0.1983136   0.2         0.2       ]]\n",
      "Interación 5\n",
      "\n",
      "[[ 0.19578373  0.19861493  0.19807306  0.2         0.2       ]]\n",
      "Interación 6\n",
      "\n",
      "[[ 0.19551567  0.1984642   0.19789186  0.2         0.2       ]]\n",
      "Interación 7\n",
      "\n",
      "[[ 0.19531767  0.19835188  0.19775783  0.2         0.2       ]]\n",
      "Interación 8\n",
      "\n",
      "[[ 0.19517104  0.19826888  0.19765884  0.2         0.2       ]]\n",
      "Interación 9\n",
      "\n",
      "[[ 0.19506259  0.19820747  0.19758552  0.2         0.2       ]]\n",
      "Interación 10\n",
      "\n",
      "[[ 0.19498234  0.19816203  0.19753129  0.2         0.2       ]]\n",
      "Interación 11\n",
      "\n",
      "[[ 0.19492297  0.19812841  0.19749117  0.2         0.2       ]]\n",
      "Interación 12\n",
      "\n",
      "[[ 0.19487904  0.19810353  0.19746148  0.2         0.2       ]]\n",
      "Interación 13\n",
      "\n",
      "[[ 0.19484654  0.19808513  0.19743952  0.2         0.2       ]]\n",
      "Interación 14\n",
      "\n",
      "[[ 0.19482249  0.19807151  0.19742327  0.2         0.2       ]]\n",
      "Interación 15\n",
      "\n",
      "[[ 0.1948047   0.19806144  0.19741125  0.2         0.2       ]]\n",
      "Interación 16\n",
      "\n",
      "[[ 0.19479154  0.19805399  0.19740235  0.2         0.2       ]]\n",
      "Interación 17\n",
      "\n",
      "[[ 0.1947818   0.19804847  0.19739577  0.2         0.2       ]]\n",
      "M*v\n",
      "\n"
     ]
    },
    {
     "data": {
      "text/plain": [
       "matrix([[ 0.19477459,  0.19804439,  0.1973909 ,  0.2       ,  0.2       ]])"
      ]
     },
     "execution_count": 12,
     "metadata": {},
     "output_type": "execute_result"
    }
   ],
   "source": [
    "from __future__ import division\n",
    "import numpy as np\n",
    "\n",
    "#Se definen los calores de las constantes de control y las matrices requeridas\n",
    "beta=0.85\n",
    "\n",
    "#Matriz adyacente\n",
    "M=np.matrix([[0.33,0.25,0.5,0,0],[.33,0,0,0,0],[0.33,0.25,0,0,0],[0,.25,.5,1,0],[0,.25,0,0,1]])\n",
    "\n",
    "#Cantidad de nodos\n",
    "n=M.shape[1]\n",
    "\n",
    "#Matriz del modelo de PageRank\n",
    "A=beta*M+((1-beta)*(1/n)*np.ones((5,5)))\n",
    "\n",
    "#Se define el vector inicial del ranking\n",
    "v=np.ones(5)/5\n",
    "\n",
    "#Proceso de estimación por iteracciones\n",
    "iterN=1\n",
    "\n",
    "while True:\n",
    "    v1=v\n",
    "    v=v.dot(M)\n",
    "    print \"Interación %d\\n\" %iterN\n",
    "    print v\n",
    "    if not np.any((0.00001<np.abs(v-v1))):\n",
    "            break\n",
    "    else:        \n",
    "     iterN=iterN+1\n",
    "\n",
    "print \"M*v\\n\" \n",
    "v.dot(M)"
   ]
  },
  {
   "cell_type": "markdown",
   "metadata": {},
   "source": [
    "Se tienen como resultado que en 17 iteraciones el algoritmo indica que el PageRank no es totalmente dominado por el nodo **E** y **D**, pese a que son las \"páginas\" que tienen mayor valor, pero las otras 3 resultan muy cercanas en importancia. Se aprecia como se va ajustando el valor conforme avanzan las etapas de los cálculos."
   ]
  },
  {
   "cell_type": "markdown",
   "metadata": {},
   "source": [
    "Data.Frame y Series\n",
    "==================="
   ]
  },
  {
   "cell_type": "markdown",
   "metadata": {},
   "source": [
    "Los dos elementos principales de **Pandas** son Data.Frame y Series. El nombre Data.Frame es igual que el que se usa en R project y en escencia tiene la misma finalidad de uso, para la carga y procesamiento de datos.\n",
    "\n",
    "Los siguientes ejemplos son breves, para conocer con detalle las propiedades, operaciones y caracteristicas que tienen estos dos objetos se puede consultar el libro [Python for Data Analysis](https://www.amazon.com) o el sitio oficial del módulo [Pandas](https://www.pandas.pydata.org). "
   ]
  },
  {
   "cell_type": "markdown",
   "metadata": {},
   "source": [
    "Primero se carga el módulo y los objetos y se muestran como usarlos de manera sencilla."
   ]
  },
  {
   "cell_type": "code",
   "execution_count": 1,
   "metadata": {
    "collapsed": false
   },
   "outputs": [],
   "source": [
    "#Se carga el módulo\n",
    "import pandas as pd\n",
    "from pandas import Series, DataFrame"
   ]
  },
  {
   "cell_type": "code",
   "execution_count": 2,
   "metadata": {
    "collapsed": true
   },
   "outputs": [],
   "source": [
    "#Se construye una Serie, se agregan primero la lista de datos y después la lista de índices\n",
    "datos_series=Series([1,2,3,4,5,6],index=['a','b','c','d','e','f'])"
   ]
  },
  {
   "cell_type": "code",
   "execution_count": 3,
   "metadata": {
    "collapsed": false
   },
   "outputs": [
    {
     "data": {
      "text/plain": [
       "a    1\n",
       "b    2\n",
       "c    3\n",
       "d    4\n",
       "e    5\n",
       "f    6\n",
       "dtype: int64"
      ]
     },
     "execution_count": 3,
     "metadata": {},
     "output_type": "execute_result"
    }
   ],
   "source": [
    "#Se muestra como carga los datos Pandas en la estrutura definida\n",
    "datos_series"
   ]
  },
  {
   "cell_type": "code",
   "execution_count": 4,
   "metadata": {
    "collapsed": false
   },
   "outputs": [
    {
     "data": {
      "text/plain": [
       "array([1, 2, 3, 4, 5, 6])"
      ]
     },
     "execution_count": 4,
     "metadata": {},
     "output_type": "execute_result"
    }
   ],
   "source": [
    "#Se visualizan los valores que se guardan en la estructura de datos\n",
    "datos_series.values"
   ]
  },
  {
   "cell_type": "code",
   "execution_count": 5,
   "metadata": {
    "collapsed": false
   },
   "outputs": [
    {
     "data": {
      "text/plain": [
       "Index([u'a', u'b', u'c', u'd', u'e', u'f'], dtype='object')"
      ]
     },
     "execution_count": 5,
     "metadata": {},
     "output_type": "execute_result"
    }
   ],
   "source": [
    "#Se visualizan los valores registrados como índices\n",
    "datos_series.index"
   ]
  },
  {
   "cell_type": "code",
   "execution_count": 6,
   "metadata": {
    "collapsed": false
   },
   "outputs": [
    {
     "data": {
      "text/plain": [
       "2"
      ]
     },
     "execution_count": 6,
     "metadata": {},
     "output_type": "execute_result"
    }
   ],
   "source": [
    "#Se seleccionan algún valor asociado al índice 'b'\n",
    "datos_series['b']"
   ]
  },
  {
   "cell_type": "code",
   "execution_count": 6,
   "metadata": {
    "collapsed": false
   },
   "outputs": [
    {
     "data": {
      "text/plain": [
       "a    False\n",
       "b    False\n",
       "c    False\n",
       "d    False\n",
       "e    False\n",
       "f    False\n",
       "dtype: bool"
      ]
     },
     "execution_count": 6,
     "metadata": {},
     "output_type": "execute_result"
    }
   ],
   "source": [
    "#Se revisa si tienen datos nulos o NaN\n",
    "datos_series.isnull()"
   ]
  },
  {
   "cell_type": "code",
   "execution_count": 8,
   "metadata": {
    "collapsed": false
   },
   "outputs": [
    {
     "data": {
      "text/plain": [
       "a     1\n",
       "b     3\n",
       "c     6\n",
       "d    10\n",
       "e    15\n",
       "f    21\n",
       "dtype: int64"
      ]
     },
     "execution_count": 8,
     "metadata": {},
     "output_type": "execute_result"
    }
   ],
   "source": [
    "#Se calcula la suma acumulada, es decir 1+2,1+2+3,1+2+3+4,1+2+3+4+5,1+2+3+4+5+6\n",
    "datos_series.cumsum()"
   ]
  },
  {
   "cell_type": "code",
   "execution_count": 7,
   "metadata": {
    "collapsed": false
   },
   "outputs": [],
   "source": [
    "#Se define un DataFrame, primero se define un diccionario y luego de genera el DataFrame\n",
    "datos={'Estado':['Guanajuato','Querétaro','Jalisco','Durango','Colima'],'Población':[5486000,1828000,7351000,1633000,723455],'superficie':[30607,11699,78588,123317,5627]}\n",
    "Datos_Estados=DataFrame(datos)       "
   ]
  },
  {
   "cell_type": "code",
   "execution_count": 8,
   "metadata": {
    "collapsed": false
   },
   "outputs": [
    {
     "data": {
      "text/html": [
       "<div>\n",
       "<table border=\"1\" class=\"dataframe\">\n",
       "  <thead>\n",
       "    <tr style=\"text-align: right;\">\n",
       "      <th></th>\n",
       "      <th>Estado</th>\n",
       "      <th>Población</th>\n",
       "      <th>superficie</th>\n",
       "    </tr>\n",
       "  </thead>\n",
       "  <tbody>\n",
       "    <tr>\n",
       "      <th>0</th>\n",
       "      <td>Guanajuato</td>\n",
       "      <td>5486000</td>\n",
       "      <td>30607</td>\n",
       "    </tr>\n",
       "    <tr>\n",
       "      <th>1</th>\n",
       "      <td>Querétaro</td>\n",
       "      <td>1828000</td>\n",
       "      <td>11699</td>\n",
       "    </tr>\n",
       "    <tr>\n",
       "      <th>2</th>\n",
       "      <td>Jalisco</td>\n",
       "      <td>7351000</td>\n",
       "      <td>78588</td>\n",
       "    </tr>\n",
       "    <tr>\n",
       "      <th>3</th>\n",
       "      <td>Durango</td>\n",
       "      <td>1633000</td>\n",
       "      <td>123317</td>\n",
       "    </tr>\n",
       "    <tr>\n",
       "      <th>4</th>\n",
       "      <td>Colima</td>\n",
       "      <td>723455</td>\n",
       "      <td>5627</td>\n",
       "    </tr>\n",
       "  </tbody>\n",
       "</table>\n",
       "</div>"
      ],
      "text/plain": [
       "       Estado  Población  superficie\n",
       "0  Guanajuato    5486000       30607\n",
       "1   Querétaro    1828000       11699\n",
       "2     Jalisco    7351000       78588\n",
       "3     Durango    1633000      123317\n",
       "4      Colima     723455        5627"
      ]
     },
     "execution_count": 8,
     "metadata": {},
     "output_type": "execute_result"
    }
   ],
   "source": [
    "Datos_Estados"
   ]
  },
  {
   "cell_type": "code",
   "execution_count": 11,
   "metadata": {
    "collapsed": false
   },
   "outputs": [],
   "source": [
    "#Se genrea de nuevo el DataFrame y lo que se hace es asignarle índice para manipular los datos\n",
    "Datos_Estados=DataFrame(datos,index=[1,2,3,4,5])"
   ]
  },
  {
   "cell_type": "code",
   "execution_count": 9,
   "metadata": {
    "collapsed": false
   },
   "outputs": [
    {
     "data": {
      "text/html": [
       "<div>\n",
       "<table border=\"1\" class=\"dataframe\">\n",
       "  <thead>\n",
       "    <tr style=\"text-align: right;\">\n",
       "      <th></th>\n",
       "      <th>Estado</th>\n",
       "      <th>Población</th>\n",
       "      <th>superficie</th>\n",
       "    </tr>\n",
       "  </thead>\n",
       "  <tbody>\n",
       "    <tr>\n",
       "      <th>0</th>\n",
       "      <td>Guanajuato</td>\n",
       "      <td>5486000</td>\n",
       "      <td>30607</td>\n",
       "    </tr>\n",
       "    <tr>\n",
       "      <th>1</th>\n",
       "      <td>Querétaro</td>\n",
       "      <td>1828000</td>\n",
       "      <td>11699</td>\n",
       "    </tr>\n",
       "    <tr>\n",
       "      <th>2</th>\n",
       "      <td>Jalisco</td>\n",
       "      <td>7351000</td>\n",
       "      <td>78588</td>\n",
       "    </tr>\n",
       "    <tr>\n",
       "      <th>3</th>\n",
       "      <td>Durango</td>\n",
       "      <td>1633000</td>\n",
       "      <td>123317</td>\n",
       "    </tr>\n",
       "    <tr>\n",
       "      <th>4</th>\n",
       "      <td>Colima</td>\n",
       "      <td>723455</td>\n",
       "      <td>5627</td>\n",
       "    </tr>\n",
       "  </tbody>\n",
       "</table>\n",
       "</div>"
      ],
      "text/plain": [
       "       Estado  Población  superficie\n",
       "0  Guanajuato    5486000       30607\n",
       "1   Querétaro    1828000       11699\n",
       "2     Jalisco    7351000       78588\n",
       "3     Durango    1633000      123317\n",
       "4      Colima     723455        5627"
      ]
     },
     "execution_count": 9,
     "metadata": {},
     "output_type": "execute_result"
    }
   ],
   "source": [
    "Datos_Estados"
   ]
  },
  {
   "cell_type": "code",
   "execution_count": 13,
   "metadata": {
    "collapsed": false
   },
   "outputs": [
    {
     "data": {
      "text/plain": [
       "1    Guanajuato\n",
       "2     Querétaro\n",
       "3       Jalisco\n",
       "4       Durango\n",
       "5        Colima\n",
       "Name: Estado, dtype: object"
      ]
     },
     "execution_count": 13,
     "metadata": {},
     "output_type": "execute_result"
    }
   ],
   "source": [
    "#Se selecciona una columna\n",
    "Datos_Estados.Estado"
   ]
  },
  {
   "cell_type": "code",
   "execution_count": 10,
   "metadata": {
    "collapsed": false
   },
   "outputs": [
    {
     "data": {
      "text/plain": [
       "0    Guanajuato\n",
       "1     Querétaro\n",
       "2       Jalisco\n",
       "3       Durango\n",
       "4        Colima\n",
       "Name: Estado, dtype: object"
      ]
     },
     "execution_count": 10,
     "metadata": {},
     "output_type": "execute_result"
    }
   ],
   "source": [
    "#Otro modo de elegir la columna es del siguiente modo.\n",
    "Datos_Estados['Estado']"
   ]
  },
  {
   "cell_type": "code",
   "execution_count": 15,
   "metadata": {
    "collapsed": false
   },
   "outputs": [
    {
     "data": {
      "text/plain": [
       "Estado        Querétaro\n",
       "Población       1828000\n",
       "superficie        11699\n",
       "Name: 2, dtype: object"
      ]
     },
     "execution_count": 15,
     "metadata": {},
     "output_type": "execute_result"
    }
   ],
   "source": [
    "#Se elige una fila, y se hace uso del índice que se definió para los datos\n",
    "Datos_Estados.ix[2]"
   ]
  },
  {
   "cell_type": "code",
   "execution_count": 11,
   "metadata": {
    "collapsed": false
   },
   "outputs": [
    {
     "data": {
      "text/html": [
       "<div>\n",
       "<table border=\"1\" class=\"dataframe\">\n",
       "  <thead>\n",
       "    <tr style=\"text-align: right;\">\n",
       "      <th></th>\n",
       "      <th>Estado</th>\n",
       "      <th>Población</th>\n",
       "      <th>superficie</th>\n",
       "    </tr>\n",
       "  </thead>\n",
       "  <tbody>\n",
       "    <tr>\n",
       "      <th>3</th>\n",
       "      <td>Durango</td>\n",
       "      <td>1633000</td>\n",
       "      <td>123317</td>\n",
       "    </tr>\n",
       "    <tr>\n",
       "      <th>4</th>\n",
       "      <td>Colima</td>\n",
       "      <td>723455</td>\n",
       "      <td>5627</td>\n",
       "    </tr>\n",
       "  </tbody>\n",
       "</table>\n",
       "</div>"
      ],
      "text/plain": [
       "    Estado  Población  superficie\n",
       "3  Durango    1633000      123317\n",
       "4   Colima     723455        5627"
      ]
     },
     "execution_count": 11,
     "metadata": {},
     "output_type": "execute_result"
    }
   ],
   "source": [
    "#Se selecciona más de una fila\n",
    "Datos_Estados.ix[[3,4]]"
   ]
  },
  {
   "cell_type": "code",
   "execution_count": 17,
   "metadata": {
    "collapsed": false
   },
   "outputs": [
    {
     "data": {
      "text/html": [
       "<div>\n",
       "<table border=\"1\" class=\"dataframe\">\n",
       "  <thead>\n",
       "    <tr style=\"text-align: right;\">\n",
       "      <th></th>\n",
       "      <th>Población</th>\n",
       "      <th>superficie</th>\n",
       "    </tr>\n",
       "  </thead>\n",
       "  <tbody>\n",
       "    <tr>\n",
       "      <th>count</th>\n",
       "      <td>5.000000e+00</td>\n",
       "      <td>5.000000</td>\n",
       "    </tr>\n",
       "    <tr>\n",
       "      <th>mean</th>\n",
       "      <td>3.404291e+06</td>\n",
       "      <td>49967.600000</td>\n",
       "    </tr>\n",
       "    <tr>\n",
       "      <th>std</th>\n",
       "      <td>2.860029e+06</td>\n",
       "      <td>50011.671546</td>\n",
       "    </tr>\n",
       "    <tr>\n",
       "      <th>min</th>\n",
       "      <td>7.234550e+05</td>\n",
       "      <td>5627.000000</td>\n",
       "    </tr>\n",
       "    <tr>\n",
       "      <th>25%</th>\n",
       "      <td>1.633000e+06</td>\n",
       "      <td>11699.000000</td>\n",
       "    </tr>\n",
       "    <tr>\n",
       "      <th>50%</th>\n",
       "      <td>1.828000e+06</td>\n",
       "      <td>30607.000000</td>\n",
       "    </tr>\n",
       "    <tr>\n",
       "      <th>75%</th>\n",
       "      <td>5.486000e+06</td>\n",
       "      <td>78588.000000</td>\n",
       "    </tr>\n",
       "    <tr>\n",
       "      <th>max</th>\n",
       "      <td>7.351000e+06</td>\n",
       "      <td>123317.000000</td>\n",
       "    </tr>\n",
       "  </tbody>\n",
       "</table>\n",
       "</div>"
      ],
      "text/plain": [
       "          Población     superficie\n",
       "count  5.000000e+00       5.000000\n",
       "mean   3.404291e+06   49967.600000\n",
       "std    2.860029e+06   50011.671546\n",
       "min    7.234550e+05    5627.000000\n",
       "25%    1.633000e+06   11699.000000\n",
       "50%    1.828000e+06   30607.000000\n",
       "75%    5.486000e+06   78588.000000\n",
       "max    7.351000e+06  123317.000000"
      ]
     },
     "execution_count": 17,
     "metadata": {},
     "output_type": "execute_result"
    }
   ],
   "source": [
    "#Descripción estadística en general, la media, la desviación estándar, el máximo, mínimo, etc.\n",
    "Datos_Estados.describe()"
   ]
  },
  {
   "cell_type": "code",
   "execution_count": 12,
   "metadata": {
    "collapsed": false
   },
   "outputs": [],
   "source": [
    "#Se modifica el DataFrame , se agrega una nueva columna \n",
    "from numpy import nan as NA\n",
    "Datos_Estados['Índice']=[1.0,4.0,NA,4.0,NA]"
   ]
  },
  {
   "cell_type": "code",
   "execution_count": 13,
   "metadata": {
    "collapsed": false
   },
   "outputs": [
    {
     "data": {
      "text/html": [
       "<div>\n",
       "<table border=\"1\" class=\"dataframe\">\n",
       "  <thead>\n",
       "    <tr style=\"text-align: right;\">\n",
       "      <th></th>\n",
       "      <th>Estado</th>\n",
       "      <th>Población</th>\n",
       "      <th>superficie</th>\n",
       "      <th>Índice</th>\n",
       "    </tr>\n",
       "  </thead>\n",
       "  <tbody>\n",
       "    <tr>\n",
       "      <th>0</th>\n",
       "      <td>Guanajuato</td>\n",
       "      <td>5486000</td>\n",
       "      <td>30607</td>\n",
       "      <td>1.0</td>\n",
       "    </tr>\n",
       "    <tr>\n",
       "      <th>1</th>\n",
       "      <td>Querétaro</td>\n",
       "      <td>1828000</td>\n",
       "      <td>11699</td>\n",
       "      <td>4.0</td>\n",
       "    </tr>\n",
       "    <tr>\n",
       "      <th>2</th>\n",
       "      <td>Jalisco</td>\n",
       "      <td>7351000</td>\n",
       "      <td>78588</td>\n",
       "      <td>NaN</td>\n",
       "    </tr>\n",
       "    <tr>\n",
       "      <th>3</th>\n",
       "      <td>Durango</td>\n",
       "      <td>1633000</td>\n",
       "      <td>123317</td>\n",
       "      <td>4.0</td>\n",
       "    </tr>\n",
       "    <tr>\n",
       "      <th>4</th>\n",
       "      <td>Colima</td>\n",
       "      <td>723455</td>\n",
       "      <td>5627</td>\n",
       "      <td>NaN</td>\n",
       "    </tr>\n",
       "  </tbody>\n",
       "</table>\n",
       "</div>"
      ],
      "text/plain": [
       "       Estado  Población  superficie  Índice\n",
       "0  Guanajuato    5486000       30607     1.0\n",
       "1   Querétaro    1828000       11699     4.0\n",
       "2     Jalisco    7351000       78588     NaN\n",
       "3     Durango    1633000      123317     4.0\n",
       "4      Colima     723455        5627     NaN"
      ]
     },
     "execution_count": 13,
     "metadata": {},
     "output_type": "execute_result"
    }
   ],
   "source": [
    "Datos_Estados"
   ]
  },
  {
   "cell_type": "code",
   "execution_count": 20,
   "metadata": {
    "collapsed": false
   },
   "outputs": [
    {
     "data": {
      "text/html": [
       "<div>\n",
       "<table border=\"1\" class=\"dataframe\">\n",
       "  <thead>\n",
       "    <tr style=\"text-align: right;\">\n",
       "      <th></th>\n",
       "      <th>Estado</th>\n",
       "      <th>Población</th>\n",
       "      <th>superficie</th>\n",
       "      <th>Índice</th>\n",
       "    </tr>\n",
       "  </thead>\n",
       "  <tbody>\n",
       "    <tr>\n",
       "      <th>1</th>\n",
       "      <td>False</td>\n",
       "      <td>False</td>\n",
       "      <td>False</td>\n",
       "      <td>False</td>\n",
       "    </tr>\n",
       "    <tr>\n",
       "      <th>2</th>\n",
       "      <td>False</td>\n",
       "      <td>False</td>\n",
       "      <td>False</td>\n",
       "      <td>False</td>\n",
       "    </tr>\n",
       "    <tr>\n",
       "      <th>3</th>\n",
       "      <td>False</td>\n",
       "      <td>False</td>\n",
       "      <td>False</td>\n",
       "      <td>True</td>\n",
       "    </tr>\n",
       "    <tr>\n",
       "      <th>4</th>\n",
       "      <td>False</td>\n",
       "      <td>False</td>\n",
       "      <td>False</td>\n",
       "      <td>False</td>\n",
       "    </tr>\n",
       "    <tr>\n",
       "      <th>5</th>\n",
       "      <td>False</td>\n",
       "      <td>False</td>\n",
       "      <td>False</td>\n",
       "      <td>True</td>\n",
       "    </tr>\n",
       "  </tbody>\n",
       "</table>\n",
       "</div>"
      ],
      "text/plain": [
       "  Estado Población superficie Índice\n",
       "1  False     False      False  False\n",
       "2  False     False      False  False\n",
       "3  False     False      False   True\n",
       "4  False     False      False  False\n",
       "5  False     False      False   True"
      ]
     },
     "execution_count": 20,
     "metadata": {},
     "output_type": "execute_result"
    }
   ],
   "source": [
    "#Se revisa si hay datos NaN o nulos\n",
    "Datos_Estados.isnull()"
   ]
  },
  {
   "cell_type": "code",
   "execution_count": 14,
   "metadata": {
    "collapsed": false
   },
   "outputs": [
    {
     "data": {
      "text/html": [
       "<div>\n",
       "<table border=\"1\" class=\"dataframe\">\n",
       "  <thead>\n",
       "    <tr style=\"text-align: right;\">\n",
       "      <th></th>\n",
       "      <th>Estado</th>\n",
       "      <th>Población</th>\n",
       "      <th>superficie</th>\n",
       "      <th>Índice</th>\n",
       "    </tr>\n",
       "  </thead>\n",
       "  <tbody>\n",
       "    <tr>\n",
       "      <th>0</th>\n",
       "      <td>Guanajuato</td>\n",
       "      <td>5486000</td>\n",
       "      <td>30607</td>\n",
       "      <td>1.0</td>\n",
       "    </tr>\n",
       "    <tr>\n",
       "      <th>1</th>\n",
       "      <td>Querétaro</td>\n",
       "      <td>1828000</td>\n",
       "      <td>11699</td>\n",
       "      <td>4.0</td>\n",
       "    </tr>\n",
       "    <tr>\n",
       "      <th>2</th>\n",
       "      <td>Jalisco</td>\n",
       "      <td>7351000</td>\n",
       "      <td>78588</td>\n",
       "      <td>0.0</td>\n",
       "    </tr>\n",
       "    <tr>\n",
       "      <th>3</th>\n",
       "      <td>Durango</td>\n",
       "      <td>1633000</td>\n",
       "      <td>123317</td>\n",
       "      <td>4.0</td>\n",
       "    </tr>\n",
       "    <tr>\n",
       "      <th>4</th>\n",
       "      <td>Colima</td>\n",
       "      <td>723455</td>\n",
       "      <td>5627</td>\n",
       "      <td>0.0</td>\n",
       "    </tr>\n",
       "  </tbody>\n",
       "</table>\n",
       "</div>"
      ],
      "text/plain": [
       "       Estado  Población  superficie  Índice\n",
       "0  Guanajuato    5486000       30607     1.0\n",
       "1   Querétaro    1828000       11699     4.0\n",
       "2     Jalisco    7351000       78588     0.0\n",
       "3     Durango    1633000      123317     4.0\n",
       "4      Colima     723455        5627     0.0"
      ]
     },
     "execution_count": 14,
     "metadata": {},
     "output_type": "execute_result"
    }
   ],
   "source": [
    "#Pandas cuenta con herramientas para tratar los Missing Values, en esto se pueden explorar como con isnull() o \n",
    "#eliminar con dropna. En este caso de llena con fillna\n",
    "Datos_Estados.fillna(0)"
   ]
  },
  {
   "cell_type": "markdown",
   "metadata": {},
   "source": [
    "Los ejemplos anteriores muestras que es muy sencillo manipular los datos con Pandas, ya sea con Series o con DataFrame. Para mayor detalle de las funciones lo recomendable es consultar las referencias mencionadas anteriormente."
   ]
  },
  {
   "cell_type": "markdown",
   "metadata": {},
   "source": [
    "Cargar datos desde diversos archivos y estadísticas sencillas.\n",
    "--------------------------------------------------------------"
   ]
  },
  {
   "cell_type": "code",
   "execution_count": 16,
   "metadata": {
    "collapsed": false
   },
   "outputs": [],
   "source": [
    "#Se agraga a la consola de ipython la salida de matplotlib\n",
    "%matplotlib inline\n",
    "\n",
    "import matplotlib.pyplot as plt\n",
    "\n",
    "plt.rcParams['figure.figsize']=(30,8)"
   ]
  },
  {
   "cell_type": "code",
   "execution_count": 17,
   "metadata": {
    "collapsed": false
   },
   "outputs": [],
   "source": [
    "#Se cargan los datos desde un directorio, se toma como headers los registros de la fila 0\n",
    "datos=pd.read_csv('~/Documentos/Tutorial-Python/Datos/Mujeres_ingeniería_y_tecnología.csv', encoding='latin1')"
   ]
  },
  {
   "cell_type": "code",
   "execution_count": 18,
   "metadata": {
    "collapsed": false
   },
   "outputs": [
    {
     "data": {
      "text/html": [
       "<div>\n",
       "<table border=\"1\" class=\"dataframe\">\n",
       "  <thead>\n",
       "    <tr style=\"text-align: right;\">\n",
       "      <th></th>\n",
       "      <th>ENTIDAD</th>\n",
       "      <th>CICLO</th>\n",
       "      <th>MUJERES_INSC_ING</th>\n",
       "      <th>MAT_TOTAL_SUP</th>\n",
       "      <th>%_MUJERES_EN_ING</th>\n",
       "    </tr>\n",
       "  </thead>\n",
       "  <tbody>\n",
       "    <tr>\n",
       "      <th>0</th>\n",
       "      <td>01 Aguascalientes</td>\n",
       "      <td>2010/2011</td>\n",
       "      <td>3842</td>\n",
       "      <td>35198</td>\n",
       "      <td>10.915393</td>\n",
       "    </tr>\n",
       "    <tr>\n",
       "      <th>1</th>\n",
       "      <td>02 Baja California</td>\n",
       "      <td>2010/2011</td>\n",
       "      <td>6614</td>\n",
       "      <td>78503</td>\n",
       "      <td>8.425156</td>\n",
       "    </tr>\n",
       "    <tr>\n",
       "      <th>2</th>\n",
       "      <td>03 Baja California Sur</td>\n",
       "      <td>2010/2011</td>\n",
       "      <td>1217</td>\n",
       "      <td>15503</td>\n",
       "      <td>7.850094</td>\n",
       "    </tr>\n",
       "    <tr>\n",
       "      <th>3</th>\n",
       "      <td>04 Campeche</td>\n",
       "      <td>2010/2011</td>\n",
       "      <td>2262</td>\n",
       "      <td>23275</td>\n",
       "      <td>9.718582</td>\n",
       "    </tr>\n",
       "    <tr>\n",
       "      <th>4</th>\n",
       "      <td>05 Coahuila</td>\n",
       "      <td>2010/2011</td>\n",
       "      <td>8776</td>\n",
       "      <td>74490</td>\n",
       "      <td>11.781447</td>\n",
       "    </tr>\n",
       "    <tr>\n",
       "      <th>5</th>\n",
       "      <td>06 Colima</td>\n",
       "      <td>2010/2011</td>\n",
       "      <td>1053</td>\n",
       "      <td>19367</td>\n",
       "      <td>5.437084</td>\n",
       "    </tr>\n",
       "    <tr>\n",
       "      <th>6</th>\n",
       "      <td>07 Chiapas</td>\n",
       "      <td>2010/2011</td>\n",
       "      <td>6093</td>\n",
       "      <td>81114</td>\n",
       "      <td>7.511650</td>\n",
       "    </tr>\n",
       "    <tr>\n",
       "      <th>7</th>\n",
       "      <td>08 Chihuahua</td>\n",
       "      <td>2010/2011</td>\n",
       "      <td>10923</td>\n",
       "      <td>93963</td>\n",
       "      <td>11.624788</td>\n",
       "    </tr>\n",
       "    <tr>\n",
       "      <th>8</th>\n",
       "      <td>09 Distrito Federal</td>\n",
       "      <td>2010/2011</td>\n",
       "      <td>49797</td>\n",
       "      <td>472104</td>\n",
       "      <td>10.547888</td>\n",
       "    </tr>\n",
       "    <tr>\n",
       "      <th>9</th>\n",
       "      <td>10 Durango</td>\n",
       "      <td>2010/2011</td>\n",
       "      <td>3865</td>\n",
       "      <td>34099</td>\n",
       "      <td>11.334643</td>\n",
       "    </tr>\n",
       "  </tbody>\n",
       "</table>\n",
       "</div>"
      ],
      "text/plain": [
       "                  ENTIDAD      CICLO  MUJERES_INSC_ING  MAT_TOTAL_SUP  \\\n",
       "0       01 Aguascalientes  2010/2011              3842          35198   \n",
       "1      02 Baja California  2010/2011              6614          78503   \n",
       "2  03 Baja California Sur  2010/2011              1217          15503   \n",
       "3             04 Campeche  2010/2011              2262          23275   \n",
       "4             05 Coahuila  2010/2011              8776          74490   \n",
       "5               06 Colima  2010/2011              1053          19367   \n",
       "6              07 Chiapas  2010/2011              6093          81114   \n",
       "7            08 Chihuahua  2010/2011             10923          93963   \n",
       "8     09 Distrito Federal  2010/2011             49797         472104   \n",
       "9              10 Durango  2010/2011              3865          34099   \n",
       "\n",
       "   %_MUJERES_EN_ING  \n",
       "0         10.915393  \n",
       "1          8.425156  \n",
       "2          7.850094  \n",
       "3          9.718582  \n",
       "4         11.781447  \n",
       "5          5.437084  \n",
       "6          7.511650  \n",
       "7         11.624788  \n",
       "8         10.547888  \n",
       "9         11.334643  "
      ]
     },
     "execution_count": 18,
     "metadata": {},
     "output_type": "execute_result"
    }
   ],
   "source": [
    "#Se visualizan los primeros 10 registros\n",
    "datos.head(10)"
   ]
  },
  {
   "cell_type": "code",
   "execution_count": 19,
   "metadata": {
    "collapsed": false
   },
   "outputs": [
    {
     "data": {
      "text/plain": [
       "(160, 5)"
      ]
     },
     "execution_count": 19,
     "metadata": {},
     "output_type": "execute_result"
    }
   ],
   "source": [
    "#Se observa la forma de los datos o las dimensiones, se observa que son 160 filas y 5 columnas.\n",
    "datos.shape"
   ]
  },
  {
   "cell_type": "code",
   "execution_count": 20,
   "metadata": {
    "collapsed": false
   },
   "outputs": [
    {
     "data": {
      "text/plain": [
       "ENTIDAD              object\n",
       "CICLO                object\n",
       "MUJERES_INSC_ING      int64\n",
       "MAT_TOTAL_SUP         int64\n",
       "%_MUJERES_EN_ING    float64\n",
       "dtype: object"
      ]
     },
     "execution_count": 20,
     "metadata": {},
     "output_type": "execute_result"
    }
   ],
   "source": [
    "#Se da una descripción del tipo de variables que se cargan en el dataFrame\n",
    "datos.dtypes"
   ]
  },
  {
   "cell_type": "code",
   "execution_count": 9,
   "metadata": {
    "collapsed": false
   },
   "outputs": [
    {
     "name": "stdout",
     "output_type": "stream",
     "text": [
      "<class 'pandas.core.frame.DataFrame'>\n",
      "RangeIndex: 160 entries, 0 to 159\n",
      "Data columns (total 5 columns):\n",
      "ENTIDAD             160 non-null object\n",
      "CICLO               160 non-null object\n",
      "MUJERES_INSC_ING    160 non-null int64\n",
      "MAT_TOTAL_SUP       160 non-null int64\n",
      "%_MUJERES_EN_ING    160 non-null float64\n",
      "dtypes: float64(1), int64(2), object(2)\n",
      "memory usage: 6.3+ KB\n"
     ]
    }
   ],
   "source": [
    "#Se puede visualizar las información de las colunnas de manera más completa\n",
    "datos.info()"
   ]
  },
  {
   "cell_type": "code",
   "execution_count": 21,
   "metadata": {
    "collapsed": false
   },
   "outputs": [
    {
     "data": {
      "text/html": [
       "<div>\n",
       "<table border=\"1\" class=\"dataframe\">\n",
       "  <thead>\n",
       "    <tr style=\"text-align: right;\">\n",
       "      <th></th>\n",
       "      <th>MUJERES_INSC_ING</th>\n",
       "      <th>MAT_TOTAL_SUP</th>\n",
       "      <th>%_MUJERES_EN_ING</th>\n",
       "    </tr>\n",
       "  </thead>\n",
       "  <tbody>\n",
       "    <tr>\n",
       "      <th>count</th>\n",
       "      <td>160.000000</td>\n",
       "      <td>160.000000</td>\n",
       "      <td>160.000000</td>\n",
       "    </tr>\n",
       "    <tr>\n",
       "      <th>mean</th>\n",
       "      <td>7902.006250</td>\n",
       "      <td>102825.350000</td>\n",
       "      <td>7.751666</td>\n",
       "    </tr>\n",
       "    <tr>\n",
       "      <th>std</th>\n",
       "      <td>7889.680464</td>\n",
       "      <td>104905.660695</td>\n",
       "      <td>2.259843</td>\n",
       "    </tr>\n",
       "    <tr>\n",
       "      <th>min</th>\n",
       "      <td>770.000000</td>\n",
       "      <td>15503.000000</td>\n",
       "      <td>3.665607</td>\n",
       "    </tr>\n",
       "    <tr>\n",
       "      <th>25%</th>\n",
       "      <td>3158.500000</td>\n",
       "      <td>40868.000000</td>\n",
       "      <td>5.930021</td>\n",
       "    </tr>\n",
       "    <tr>\n",
       "      <th>50%</th>\n",
       "      <td>5952.500000</td>\n",
       "      <td>71109.500000</td>\n",
       "      <td>7.579092</td>\n",
       "    </tr>\n",
       "    <tr>\n",
       "      <th>75%</th>\n",
       "      <td>9071.750000</td>\n",
       "      <td>101274.500000</td>\n",
       "      <td>9.364771</td>\n",
       "    </tr>\n",
       "    <tr>\n",
       "      <th>max</th>\n",
       "      <td>49797.000000</td>\n",
       "      <td>581222.000000</td>\n",
       "      <td>12.891235</td>\n",
       "    </tr>\n",
       "  </tbody>\n",
       "</table>\n",
       "</div>"
      ],
      "text/plain": [
       "       MUJERES_INSC_ING  MAT_TOTAL_SUP  %_MUJERES_EN_ING\n",
       "count        160.000000     160.000000        160.000000\n",
       "mean        7902.006250  102825.350000          7.751666\n",
       "std         7889.680464  104905.660695          2.259843\n",
       "min          770.000000   15503.000000          3.665607\n",
       "25%         3158.500000   40868.000000          5.930021\n",
       "50%         5952.500000   71109.500000          7.579092\n",
       "75%         9071.750000  101274.500000          9.364771\n",
       "max        49797.000000  581222.000000         12.891235"
      ]
     },
     "execution_count": 21,
     "metadata": {},
     "output_type": "execute_result"
    }
   ],
   "source": [
    "#Se hace un resumen estadístico global de las variables o columnas\n",
    "datos.describe()"
   ]
  },
  {
   "cell_type": "markdown",
   "metadata": {},
   "source": [
    "Viendo los datos que se tienen, es natural preguntarse algo al respecto. Lo sencillo es, *¿cuál es el estado que presenta mayor cantidad de inscripciones de mujeres a ingeniería?*, pero también se puede agregar a la pregunta anterior el preguntar en qué año o cíclo ocurrió eso.\n",
    "\n",
    "Algo sencillo para abordar las anteriores preguntas construir una tabla que permita visualizar la relación entre las variables mencionadas."
   ]
  },
  {
   "cell_type": "code",
   "execution_count": 22,
   "metadata": {
    "collapsed": false
   },
   "outputs": [
    {
     "data": {
      "text/html": [
       "<div>\n",
       "<table border=\"1\" class=\"dataframe\">\n",
       "  <thead>\n",
       "    <tr style=\"text-align: right;\">\n",
       "      <th>CICLO</th>\n",
       "      <th>2010/2011</th>\n",
       "      <th>2011/2012</th>\n",
       "      <th>2012/2013</th>\n",
       "      <th>2013/2014</th>\n",
       "      <th>2014/2015</th>\n",
       "    </tr>\n",
       "    <tr>\n",
       "      <th>ENTIDAD</th>\n",
       "      <th></th>\n",
       "      <th></th>\n",
       "      <th></th>\n",
       "      <th></th>\n",
       "      <th></th>\n",
       "    </tr>\n",
       "  </thead>\n",
       "  <tbody>\n",
       "    <tr>\n",
       "      <th>01 Aguascalientes</th>\n",
       "      <td>3842</td>\n",
       "      <td>2537</td>\n",
       "      <td>2892</td>\n",
       "      <td>3183</td>\n",
       "      <td>3677</td>\n",
       "    </tr>\n",
       "    <tr>\n",
       "      <th>02 Baja California</th>\n",
       "      <td>6614</td>\n",
       "      <td>5745</td>\n",
       "      <td>6244</td>\n",
       "      <td>6470</td>\n",
       "      <td>6830</td>\n",
       "    </tr>\n",
       "    <tr>\n",
       "      <th>03 Baja California Sur</th>\n",
       "      <td>1217</td>\n",
       "      <td>770</td>\n",
       "      <td>886</td>\n",
       "      <td>967</td>\n",
       "      <td>1083</td>\n",
       "    </tr>\n",
       "    <tr>\n",
       "      <th>04 Campeche</th>\n",
       "      <td>2262</td>\n",
       "      <td>2028</td>\n",
       "      <td>2111</td>\n",
       "      <td>2217</td>\n",
       "      <td>2310</td>\n",
       "    </tr>\n",
       "    <tr>\n",
       "      <th>05 Coahuila</th>\n",
       "      <td>8776</td>\n",
       "      <td>7119</td>\n",
       "      <td>7423</td>\n",
       "      <td>8044</td>\n",
       "      <td>8879</td>\n",
       "    </tr>\n",
       "    <tr>\n",
       "      <th>06 Colima</th>\n",
       "      <td>1053</td>\n",
       "      <td>827</td>\n",
       "      <td>977</td>\n",
       "      <td>1110</td>\n",
       "      <td>1266</td>\n",
       "    </tr>\n",
       "    <tr>\n",
       "      <th>07 Chiapas</th>\n",
       "      <td>6093</td>\n",
       "      <td>5046</td>\n",
       "      <td>5178</td>\n",
       "      <td>5181</td>\n",
       "      <td>4953</td>\n",
       "    </tr>\n",
       "    <tr>\n",
       "      <th>08 Chihuahua</th>\n",
       "      <td>10923</td>\n",
       "      <td>8575</td>\n",
       "      <td>8950</td>\n",
       "      <td>9038</td>\n",
       "      <td>9628</td>\n",
       "    </tr>\n",
       "    <tr>\n",
       "      <th>09 Distrito Federal</th>\n",
       "      <td>49797</td>\n",
       "      <td>31873</td>\n",
       "      <td>34382</td>\n",
       "      <td>36508</td>\n",
       "      <td>39301</td>\n",
       "    </tr>\n",
       "    <tr>\n",
       "      <th>10 Durango</th>\n",
       "      <td>3865</td>\n",
       "      <td>3652</td>\n",
       "      <td>3940</td>\n",
       "      <td>4150</td>\n",
       "      <td>4674</td>\n",
       "    </tr>\n",
       "    <tr>\n",
       "      <th>11 Guanajuato</th>\n",
       "      <td>12381</td>\n",
       "      <td>9829</td>\n",
       "      <td>10762</td>\n",
       "      <td>11752</td>\n",
       "      <td>13181</td>\n",
       "    </tr>\n",
       "    <tr>\n",
       "      <th>12 Guerrero</th>\n",
       "      <td>3508</td>\n",
       "      <td>2868</td>\n",
       "      <td>3003</td>\n",
       "      <td>3161</td>\n",
       "      <td>3304</td>\n",
       "    </tr>\n",
       "    <tr>\n",
       "      <th>13 Hidalgo</th>\n",
       "      <td>8094</td>\n",
       "      <td>6110</td>\n",
       "      <td>6994</td>\n",
       "      <td>7552</td>\n",
       "      <td>7920</td>\n",
       "    </tr>\n",
       "    <tr>\n",
       "      <th>14 Jalisco</th>\n",
       "      <td>14601</td>\n",
       "      <td>9543</td>\n",
       "      <td>9967</td>\n",
       "      <td>10590</td>\n",
       "      <td>10970</td>\n",
       "    </tr>\n",
       "    <tr>\n",
       "      <th>15 Mï¿½xico</th>\n",
       "      <td>27042</td>\n",
       "      <td>22470</td>\n",
       "      <td>23887</td>\n",
       "      <td>25379</td>\n",
       "      <td>27150</td>\n",
       "    </tr>\n",
       "    <tr>\n",
       "      <th>16 Michoacï¿½n</th>\n",
       "      <td>6804</td>\n",
       "      <td>5668</td>\n",
       "      <td>5943</td>\n",
       "      <td>6209</td>\n",
       "      <td>6494</td>\n",
       "    </tr>\n",
       "    <tr>\n",
       "      <th>17 Morelos</th>\n",
       "      <td>3746</td>\n",
       "      <td>3151</td>\n",
       "      <td>3439</td>\n",
       "      <td>3513</td>\n",
       "      <td>3796</td>\n",
       "    </tr>\n",
       "    <tr>\n",
       "      <th>18 Nayarit</th>\n",
       "      <td>2038</td>\n",
       "      <td>1418</td>\n",
       "      <td>1449</td>\n",
       "      <td>1518</td>\n",
       "      <td>1585</td>\n",
       "    </tr>\n",
       "    <tr>\n",
       "      <th>19 Nuevo Leï¿½n</th>\n",
       "      <td>14011</td>\n",
       "      <td>9173</td>\n",
       "      <td>9968</td>\n",
       "      <td>9925</td>\n",
       "      <td>10603</td>\n",
       "    </tr>\n",
       "    <tr>\n",
       "      <th>20 Oaxaca</th>\n",
       "      <td>4801</td>\n",
       "      <td>3544</td>\n",
       "      <td>3774</td>\n",
       "      <td>3771</td>\n",
       "      <td>3910</td>\n",
       "    </tr>\n",
       "    <tr>\n",
       "      <th>21 Puebla</th>\n",
       "      <td>17860</td>\n",
       "      <td>12801</td>\n",
       "      <td>13526</td>\n",
       "      <td>14357</td>\n",
       "      <td>15545</td>\n",
       "    </tr>\n",
       "    <tr>\n",
       "      <th>22 Querï¿½taro</th>\n",
       "      <td>6074</td>\n",
       "      <td>5223</td>\n",
       "      <td>5556</td>\n",
       "      <td>5962</td>\n",
       "      <td>6602</td>\n",
       "    </tr>\n",
       "    <tr>\n",
       "      <th>23 Quintana Roo</th>\n",
       "      <td>1811</td>\n",
       "      <td>1035</td>\n",
       "      <td>1087</td>\n",
       "      <td>1176</td>\n",
       "      <td>1256</td>\n",
       "    </tr>\n",
       "    <tr>\n",
       "      <th>24 San Luis Potosï¿½</th>\n",
       "      <td>6331</td>\n",
       "      <td>5136</td>\n",
       "      <td>5375</td>\n",
       "      <td>5635</td>\n",
       "      <td>5763</td>\n",
       "    </tr>\n",
       "    <tr>\n",
       "      <th>25 Sinaloa</th>\n",
       "      <td>6838</td>\n",
       "      <td>5327</td>\n",
       "      <td>5706</td>\n",
       "      <td>6285</td>\n",
       "      <td>6897</td>\n",
       "    </tr>\n",
       "    <tr>\n",
       "      <th>26 Sonora</th>\n",
       "      <td>8051</td>\n",
       "      <td>6159</td>\n",
       "      <td>6663</td>\n",
       "      <td>7107</td>\n",
       "      <td>7645</td>\n",
       "    </tr>\n",
       "    <tr>\n",
       "      <th>27 Tabasco</th>\n",
       "      <td>8447</td>\n",
       "      <td>7296</td>\n",
       "      <td>8102</td>\n",
       "      <td>8554</td>\n",
       "      <td>9274</td>\n",
       "    </tr>\n",
       "    <tr>\n",
       "      <th>28 Tanaulipas</th>\n",
       "      <td>10358</td>\n",
       "      <td>8565</td>\n",
       "      <td>8868</td>\n",
       "      <td>8912</td>\n",
       "      <td>9342</td>\n",
       "    </tr>\n",
       "    <tr>\n",
       "      <th>29 Tlaxcala</th>\n",
       "      <td>2595</td>\n",
       "      <td>2021</td>\n",
       "      <td>2235</td>\n",
       "      <td>2318</td>\n",
       "      <td>2395</td>\n",
       "    </tr>\n",
       "    <tr>\n",
       "      <th>30 Veracruz</th>\n",
       "      <td>23159</td>\n",
       "      <td>19601</td>\n",
       "      <td>20676</td>\n",
       "      <td>22485</td>\n",
       "      <td>24686</td>\n",
       "    </tr>\n",
       "    <tr>\n",
       "      <th>31 Yucatï¿½n</th>\n",
       "      <td>4552</td>\n",
       "      <td>2977</td>\n",
       "      <td>3187</td>\n",
       "      <td>3237</td>\n",
       "      <td>3354</td>\n",
       "    </tr>\n",
       "    <tr>\n",
       "      <th>32 Zacatecas</th>\n",
       "      <td>3129</td>\n",
       "      <td>2503</td>\n",
       "      <td>2817</td>\n",
       "      <td>3070</td>\n",
       "      <td>3482</td>\n",
       "    </tr>\n",
       "  </tbody>\n",
       "</table>\n",
       "</div>"
      ],
      "text/plain": [
       "CICLO                   2010/2011  2011/2012  2012/2013  2013/2014  2014/2015\n",
       "ENTIDAD                                                                      \n",
       "01 Aguascalientes            3842       2537       2892       3183       3677\n",
       "02 Baja California           6614       5745       6244       6470       6830\n",
       "03 Baja California Sur       1217        770        886        967       1083\n",
       "04 Campeche                  2262       2028       2111       2217       2310\n",
       "05 Coahuila                  8776       7119       7423       8044       8879\n",
       "06 Colima                    1053        827        977       1110       1266\n",
       "07 Chiapas                   6093       5046       5178       5181       4953\n",
       "08 Chihuahua                10923       8575       8950       9038       9628\n",
       "09 Distrito Federal         49797      31873      34382      36508      39301\n",
       "10 Durango                   3865       3652       3940       4150       4674\n",
       "11 Guanajuato               12381       9829      10762      11752      13181\n",
       "12 Guerrero                  3508       2868       3003       3161       3304\n",
       "13 Hidalgo                   8094       6110       6994       7552       7920\n",
       "14 Jalisco                  14601       9543       9967      10590      10970\n",
       "15 Mï¿½xico                 27042      22470      23887      25379      27150\n",
       "16 Michoacï¿½n               6804       5668       5943       6209       6494\n",
       "17 Morelos                   3746       3151       3439       3513       3796\n",
       "18 Nayarit                   2038       1418       1449       1518       1585\n",
       "19 Nuevo Leï¿½n             14011       9173       9968       9925      10603\n",
       "20 Oaxaca                    4801       3544       3774       3771       3910\n",
       "21 Puebla                   17860      12801      13526      14357      15545\n",
       "22 Querï¿½taro               6074       5223       5556       5962       6602\n",
       "23 Quintana Roo              1811       1035       1087       1176       1256\n",
       "24 San Luis Potosï¿½         6331       5136       5375       5635       5763\n",
       "25 Sinaloa                   6838       5327       5706       6285       6897\n",
       "26 Sonora                    8051       6159       6663       7107       7645\n",
       "27 Tabasco                   8447       7296       8102       8554       9274\n",
       "28 Tanaulipas               10358       8565       8868       8912       9342\n",
       "29 Tlaxcala                  2595       2021       2235       2318       2395\n",
       "30 Veracruz                 23159      19601      20676      22485      24686\n",
       "31 Yucatï¿½n                 4552       2977       3187       3237       3354\n",
       "32 Zacatecas                 3129       2503       2817       3070       3482"
      ]
     },
     "execution_count": 22,
     "metadata": {},
     "output_type": "execute_result"
    }
   ],
   "source": [
    "#Se construye una tabla pivot para ordenar los datos y conocer como se comportó el total de mujeres \n",
    "#inscritas a ingenierías\n",
    "datos.pivot('ENTIDAD','CICLO','MUJERES_INSC_ING')"
   ]
  },
  {
   "cell_type": "code",
   "execution_count": 30,
   "metadata": {
    "collapsed": false
   },
   "outputs": [
    {
     "data": {
      "text/html": [
       "<div>\n",
       "<table border=\"1\" class=\"dataframe\">\n",
       "  <thead>\n",
       "    <tr style=\"text-align: right;\">\n",
       "      <th>CICLO</th>\n",
       "      <th>2010/2011</th>\n",
       "      <th>2011/2012</th>\n",
       "      <th>2012/2013</th>\n",
       "      <th>2013/2014</th>\n",
       "      <th>2014/2015</th>\n",
       "    </tr>\n",
       "    <tr>\n",
       "      <th>ENTIDAD</th>\n",
       "      <th></th>\n",
       "      <th></th>\n",
       "      <th></th>\n",
       "      <th></th>\n",
       "      <th></th>\n",
       "    </tr>\n",
       "  </thead>\n",
       "  <tbody>\n",
       "    <tr>\n",
       "      <th>30 Veracruz</th>\n",
       "      <td>23159</td>\n",
       "      <td>19601</td>\n",
       "      <td>20676</td>\n",
       "      <td>22485</td>\n",
       "      <td>24686</td>\n",
       "    </tr>\n",
       "    <tr>\n",
       "      <th>15 Mï¿½xico</th>\n",
       "      <td>27042</td>\n",
       "      <td>22470</td>\n",
       "      <td>23887</td>\n",
       "      <td>25379</td>\n",
       "      <td>27150</td>\n",
       "    </tr>\n",
       "    <tr>\n",
       "      <th>09 Distrito Federal</th>\n",
       "      <td>49797</td>\n",
       "      <td>31873</td>\n",
       "      <td>34382</td>\n",
       "      <td>36508</td>\n",
       "      <td>39301</td>\n",
       "    </tr>\n",
       "  </tbody>\n",
       "</table>\n",
       "</div>"
      ],
      "text/plain": [
       "CICLO                2010/2011  2011/2012  2012/2013  2013/2014  2014/2015\n",
       "ENTIDAD                                                                   \n",
       "30 Veracruz              23159      19601      20676      22485      24686\n",
       "15 Mï¿½xico              27042      22470      23887      25379      27150\n",
       "09 Distrito Federal      49797      31873      34382      36508      39301"
      ]
     },
     "execution_count": 30,
     "metadata": {},
     "output_type": "execute_result"
    }
   ],
   "source": [
    "#Se revisa cual son los 3 estados con mayor cantidad de inscripciones en el cíclo 2012/2013\n",
    "datos.pivot('ENTIDAD','CICLO','MUJERES_INSC_ING').sort_values(by='2012/2013')[-3:]"
   ]
  },
  {
   "cell_type": "code",
   "execution_count": 23,
   "metadata": {
    "collapsed": false
   },
   "outputs": [
    {
     "data": {
      "text/plain": [
       "<matplotlib.axes._subplots.AxesSubplot at 0x7ff0d42da050>"
      ]
     },
     "execution_count": 23,
     "metadata": {},
     "output_type": "execute_result"
    },
    {
     "data": {
      "image/png": "[encoded data removed]",
      "text/plain": [
       "<matplotlib.figure.Figure at 0x7ff0d5c7fed0>"
      ]
     },
     "metadata": {},
     "output_type": "display_data"
    }
   ],
   "source": [
    "#Se grafican los resultados de la tabla anterior, pero ordenadas por el cíclo 2010/2011\n",
    "datos.pivot('ENTIDAD','CICLO','MUJERES_INSC_ING').sort_values(by='2010/2011').plot(kind='bar')"
   ]
  },
  {
   "cell_type": "markdown",
   "metadata": {},
   "source": [
    "**Observación**: se vuelve evidente que las entidades federales o Estados donde se inscriben más mujeres a ingenierías son el Distrito Federal(Ciudad de México), Estado de México, Veracruz, Puebla, Guanajuato, Jalisco y Nuevo León. También se observa que en todos los estados en el periódo 2010/2011 la cantidad de mujeres que se inscribieron fue mayor y decayó significativamente en los años siguientes.\n",
    "\n",
    "Esto responde a la pregunta : *¿cuál es el estado que presenta mayor cantidad de inscripciones de mujeres a ingeniería?*"
   ]
  },
  {
   "cell_type": "code",
   "execution_count": 24,
   "metadata": {
    "collapsed": false
   },
   "outputs": [
    {
     "data": {
      "text/plain": [
       "<matplotlib.axes._subplots.AxesSubplot at 0x7ff0d41ad1d0>"
      ]
     },
     "execution_count": 24,
     "metadata": {},
     "output_type": "execute_result"
    },
    {
     "data": {
      "image/png": "[encoded data removed]",
      "text/plain": [
       "<matplotlib.figure.Figure at 0x7ff0d4285d10>"
      ]
     },
     "metadata": {},
     "output_type": "display_data"
    }
   ],
   "source": [
    "#Se grafica el boxplot para cada periodo \n",
    "datos.pivot('ENTIDAD','CICLO','MUJERES_INSC_ING').plot(kind='box', title='Boxplot')"
   ]
  },
  {
   "cell_type": "markdown",
   "metadata": {},
   "source": [
    "**Nota**: para estre breve análisis se hace uso de la construcción de tablas pivot en pandas. Esto facilidad analizar como se comportan las variables categóricas de los datos. En este ejemplo se muestra que el periódo 2010/2011 tuvo una media mayor de mujeres inscritas en ingeniarías, pero también se ve que la relación entre los estados fue más dispersa. Pero también se ve que los periódos del 2011/2012, 2012/2013 y 2013/2014 tienen comportamientos \"similares\"."
   ]
  },
  {
   "cell_type": "markdown",
   "metadata": {},
   "source": [
    "Otras herramientas gráficas\n",
    "---------------------------\n",
    "\n",
    "Conforme evolucionó **Pandas** y el módulo se volvió más usado, la límitante que tenía a mi parecer, era el nivel de gráficos base. Para usar los DataFrame y Series en matplotlib se necesita definir los array o procesarlos de modo tal que puedan contruirse mejores gráficos. Matplotlib es un módulo muy potente, pero resulta mucho más engorroso hacer un análisis grafico. Si se ha usado R project para hacer una exploración de datos, resulta muy facil constrir los gráficos básicos y con librerías como **ggplot2** o **lattice** se puede hacer un análisis gráfico sencillo y potente.\n",
    "\n",
    "Ante este problema se diseño una librería para complementar el análisis grafico, que es algo asi como \"de alto nivel\" al comprarla con matplotlib. El módulo se llama **seaborn**. \n",
    "\n",
    "Para los siguientes ejemplos uso los datos que se han analizado anteriormente."
   ]
  },
  {
   "cell_type": "code",
   "execution_count": 25,
   "metadata": {
    "collapsed": false
   },
   "outputs": [
    {
     "data": {
      "text/html": [
       "<div>\n",
       "<table border=\"1\" class=\"dataframe\">\n",
       "  <thead>\n",
       "    <tr style=\"text-align: right;\">\n",
       "      <th></th>\n",
       "      <th>ENTIDAD</th>\n",
       "      <th>CICLO</th>\n",
       "      <th>MUJERES_INSC_ING</th>\n",
       "      <th>MAT_TOTAL_SUP</th>\n",
       "      <th>%_MUJERES_EN_ING</th>\n",
       "    </tr>\n",
       "  </thead>\n",
       "  <tbody>\n",
       "    <tr>\n",
       "      <th>0</th>\n",
       "      <td>01 Aguascalientes</td>\n",
       "      <td>2010/2011</td>\n",
       "      <td>3842</td>\n",
       "      <td>35198</td>\n",
       "      <td>10.915393</td>\n",
       "    </tr>\n",
       "    <tr>\n",
       "      <th>1</th>\n",
       "      <td>02 Baja California</td>\n",
       "      <td>2010/2011</td>\n",
       "      <td>6614</td>\n",
       "      <td>78503</td>\n",
       "      <td>8.425156</td>\n",
       "    </tr>\n",
       "    <tr>\n",
       "      <th>2</th>\n",
       "      <td>03 Baja California Sur</td>\n",
       "      <td>2010/2011</td>\n",
       "      <td>1217</td>\n",
       "      <td>15503</td>\n",
       "      <td>7.850094</td>\n",
       "    </tr>\n",
       "    <tr>\n",
       "      <th>3</th>\n",
       "      <td>04 Campeche</td>\n",
       "      <td>2010/2011</td>\n",
       "      <td>2262</td>\n",
       "      <td>23275</td>\n",
       "      <td>9.718582</td>\n",
       "    </tr>\n",
       "    <tr>\n",
       "      <th>4</th>\n",
       "      <td>05 Coahuila</td>\n",
       "      <td>2010/2011</td>\n",
       "      <td>8776</td>\n",
       "      <td>74490</td>\n",
       "      <td>11.781447</td>\n",
       "    </tr>\n",
       "  </tbody>\n",
       "</table>\n",
       "</div>"
      ],
      "text/plain": [
       "                  ENTIDAD      CICLO  MUJERES_INSC_ING  MAT_TOTAL_SUP  \\\n",
       "0       01 Aguascalientes  2010/2011              3842          35198   \n",
       "1      02 Baja California  2010/2011              6614          78503   \n",
       "2  03 Baja California Sur  2010/2011              1217          15503   \n",
       "3             04 Campeche  2010/2011              2262          23275   \n",
       "4             05 Coahuila  2010/2011              8776          74490   \n",
       "\n",
       "   %_MUJERES_EN_ING  \n",
       "0         10.915393  \n",
       "1          8.425156  \n",
       "2          7.850094  \n",
       "3          9.718582  \n",
       "4         11.781447  "
      ]
     },
     "execution_count": 25,
     "metadata": {},
     "output_type": "execute_result"
    }
   ],
   "source": [
    "#Se construye la tabla \n",
    "#Tabla1=datos.pivot('ENTIDAD','CICLO','MUJERES_INSC_ING')\n",
    "datos.head()"
   ]
  },
  {
   "cell_type": "code",
   "execution_count": 27,
   "metadata": {
    "collapsed": false,
    "scrolled": true
   },
   "outputs": [],
   "source": [
    "#Se carga la librería seaborn\n",
    "import seaborn as sns\n",
    "#sns.set(style=\"ticks\")\n",
    "#sns.boxplot(x=\"CICLO\",y=\"MUJERES_INSC_ING\",data=datos,palette=\"PRGn\",hue=\"CICLO\")"
   ]
  },
  {
   "cell_type": "markdown",
   "metadata": {},
   "source": [
    "**Como cargar un json y analizarlo.**\n",
    "\n",
    "En la siguiente se da una ejemplo de como cargar datos desde algún servicio web que regresa un arvhivo de tipo JSON. "
   ]
  },
  {
   "cell_type": "code",
   "execution_count": 28,
   "metadata": {
    "collapsed": false
   },
   "outputs": [
    {
     "data": {
      "text/plain": [
       "<seaborn.axisgrid.FacetGrid at 0x7ff0c828bfd0>"
      ]
     },
     "execution_count": 28,
     "metadata": {},
     "output_type": "execute_result"
    },
    {
     "data": {
      "image/png": "[encoded data removed]",
      "text/plain": [
       "<matplotlib.figure.Figure at 0x7ff0c828b9d0>"
      ]
     },
     "metadata": {},
     "output_type": "display_data"
    }
   ],
   "source": [
    "sns.factorplot(x=\"ENTIDAD\",y=\"MUJERES_INSC_ING\",hue=\"CICLO\",data=datos,palette=\"muted\", size=15,kind=\"bar\")\n"
   ]
  },
  {
   "cell_type": "code",
   "execution_count": 29,
   "metadata": {
    "collapsed": false
   },
   "outputs": [
    {
     "data": {
      "image/png": "[encoded data removed]",
      "text/plain": [
       "<matplotlib.figure.Figure at 0x7ff0c81d7590>"
      ]
     },
     "metadata": {},
     "output_type": "display_data"
    }
   ],
   "source": [
    "#Otra gráfica, se muestra el cruce entre las mujeres  que se inscriben en ingeniería y el total de mujeres\n",
    "with sns.axes_style('white'):\n",
    "    sns.jointplot('MUJERES_INSC_ING','MAT_TOTAL_SUP',data=datos,kind='hex')"
   ]
  },
  {
   "cell_type": "markdown",
   "metadata": {},
   "source": [
    "Conclusión: \n",
    "-----------\n",
    "\n",
    "Se observa que es facil el cargar datos desde un archivo, es lo usual, dar la ruta y el tipo de archivo se carga con la función correspondiente a ese tipo de archivo. También, con **Pandas** resulta sencillo hacer una tabla pivot, lo cual ayuda a organizar o explorar los datos y la relación entre al menos dos variables. "
   ]
  }
 ],
 "metadata": {
  "anaconda-cloud": {},
  "kernelspec": {
   "display_name": "Python [default]",
   "language": "python",
   "name": "python2"
  },
  "language_info": {
   "codemirror_mode": {
    "name": "ipython",
    "version": 2
   },
   "file_extension": ".py",
   "mimetype": "text/x-python",
   "name": "python",
   "nbconvert_exporter": "python",
   "pygments_lexer": "ipython2",
   "version": "2.7.12"
  }
 },
 "nbformat": 4,
 "nbformat_minor": 0
}
