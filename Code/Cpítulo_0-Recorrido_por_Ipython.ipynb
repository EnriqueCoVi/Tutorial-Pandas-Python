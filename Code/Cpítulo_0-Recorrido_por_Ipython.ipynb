{
 "cells": [
  {
   "cell_type": "markdown",
   "metadata": {},
   "source": [
    "Un recorrido básico en Ipython\n",
    "==============================\n",
    "\n",
    "El entorno sobre el cual muestro los ejemplos es [Ipython Notebook](http://ipython.org/notebook.html), o su versión moderna [Jupyter Notebook](http://jupyter.org/). Pero sin problemas se pueden realizar en [Ipython](https://ipython.readthedocs.org/en/stable/) o en la consola de ipython  [Qtconsole](https://ipython.org/ipython-doc/3/interactive/qtconsole.html). \n",
    "\n",
    "Por lo cual para ejecutar los ejemplos se necesita tener instalado Ipython. En lo personal me gusta la distribución de [Anaconda](https://www.continuum.io/downloads). Los módulos de python que se instalan son más que suficientes. En caso de no desear instalar esa distribución, se deben de instalar los módulos que no forman parte de la distribución base, lo cual es facil haciendo uso del administrador de paquetes de python, **pip**. \n"
   ]
  },
  {
   "cell_type": "markdown",
   "metadata": {},
   "source": [
    "Lo primero\n",
    "----------\n",
    "\n",
    "Estando en la terminal del sistema se ejecuta alguno de los siguientes comando:\n",
    "~~~\n",
    "ipython\n",
    "jupyter qtconsole\n",
    "jupyter notebook\n",
    "~~~\n",
    " \n",
    "Lo que se tiene es una entrada a la terminal para ejecutar python, se ve del siguiente modo:"
   ]
  },
  {
   "cell_type": "code",
   "execution_count": 2,
   "metadata": {
    "collapsed": false,
    "scrolled": true
   },
   "outputs": [
    {
     "name": "stdout",
     "output_type": "stream",
     "text": [
      "Hello World!\n"
     ]
    }
   ],
   "source": [
    "print \"Hello World!\""
   ]
  },
  {
   "cell_type": "markdown",
   "metadata": {},
   "source": [
    "Todas las funcionalidades que se realizan en la termina usual de python se tienen en **Ipython**, este último cuenta con funcionalidades que ayudan hagilizar la escritura de código, pero además permite tener una visualización de las variables, gráficos o estructuras de datos que se van definiendo. Existen varios entornos de desarrollo para python; **IDE**,  el que yo he usado es [Spyder](https://pythonhosted.org/spyder/),en el caso de elegir un **IDE** depende de como se adapta cada uno al escribir código. \n",
    "\n",
    "Las reglas de programación generales de python son las mismas, lo único que cambia es el entorno. La siguiente línea muestra la asignación de valor a una variable y en la siguiente línea se ve la salida que se tiene al consultar el valor, lo cual es igual cuando se trabaja en la terminal usual."
   ]
  },
  {
   "cell_type": "code",
   "execution_count": 3,
   "metadata": {
    "collapsed": false
   },
   "outputs": [],
   "source": [
    "a=5"
   ]
  },
  {
   "cell_type": "code",
   "execution_count": 4,
   "metadata": {
    "collapsed": false
   },
   "outputs": [
    {
     "data": {
      "text/plain": [
       "5"
      ]
     },
     "execution_count": 4,
     "metadata": {},
     "output_type": "execute_result"
    }
   ],
   "source": [
    "a"
   ]
  },
  {
   "cell_type": "markdown",
   "metadata": {},
   "source": [
    "Para cargar un módulo se realiza de manera usual."
   ]
  },
  {
   "cell_type": "code",
   "execution_count": 5,
   "metadata": {
    "collapsed": false
   },
   "outputs": [],
   "source": [
    "from numpy.random import randn\n",
    "datos={i : randn() for i in range(10)}"
   ]
  },
  {
   "cell_type": "code",
   "execution_count": 6,
   "metadata": {
    "collapsed": false
   },
   "outputs": [
    {
     "data": {
      "text/plain": [
       "{0: -0.5439393840004576,\n",
       " 1: 0.8885037251187239,\n",
       " 2: -0.4614515898072435,\n",
       " 3: -0.5496945247564496,\n",
       " 4: 1.525573871794346,\n",
       " 5: -1.56290981436025,\n",
       " 6: -2.213468167074332,\n",
       " 7: 1.1748034350554948,\n",
       " 8: 0.25236159584039347,\n",
       " 9: 0.1272626312180679}"
      ]
     },
     "execution_count": 6,
     "metadata": {},
     "output_type": "execute_result"
    }
   ],
   "source": [
    "datos"
   ]
  },
  {
   "cell_type": "markdown",
   "metadata": {},
   "source": [
    "Lo interesante resulta cuando uno va definiendo variables y algunas tienen nombres similares o inician con las mismas letras. Ejemplo, se define otro muestra de datos, que se llame *datos_muestra* y se consulta en la terminal con las letras iniciales '*da*', la consola muestra las variables o estructuras que tienen esos caracteres como iniciales."
   ]
  },
  {
   "cell_type": "code",
   "execution_count": 7,
   "metadata": {
    "collapsed": true
   },
   "outputs": [],
   "source": [
    "datos_muestra={i : randn() for i in range(5)}"
   ]
  },
  {
   "cell_type": "code",
   "execution_count": 8,
   "metadata": {
    "collapsed": false
   },
   "outputs": [
    {
     "data": {
      "text/plain": [
       "{0: 0.43284098770515694,\n",
       " 1: -0.07151063912728585,\n",
       " 2: 0.1674461730898184,\n",
       " 3: -0.5390702720835789,\n",
       " 4: 2.098095256565737}"
      ]
     },
     "execution_count": 8,
     "metadata": {},
     "output_type": "execute_result"
    }
   ],
   "source": [
    "datos_muestra"
   ]
  },
  {
   "cell_type": "markdown",
   "metadata": {},
   "source": [
    "Cuando se trata de elegir el diccionario se pone en la terminal da+**Tabulador**, después de eso se muestra la imagen![Muestr del auntocompletado](Imagenes/dat.jpg)"
   ]
  },
  {
   "cell_type": "markdown",
   "metadata": {},
   "source": [
    "Otra opción de usar el autocompletado es cuando no se conoce todas las funciones de algún módulo. Ejemplo, si se carga el módulo Numpy se pueden saber cuales funciones forman parte de este módulo y basta usar el tabulador para ver las funciones."
   ]
  },
  {
   "cell_type": "code",
   "execution_count": 9,
   "metadata": {
    "collapsed": false
   },
   "outputs": [],
   "source": [
    "import numpy as np"
   ]
  },
  {
   "cell_type": "markdown",
   "metadata": {},
   "source": [
    "Se coloca en la línea de comandos **np**.**Tabulador** y se tienen el menú siguiente ![Menu](Imagenes/Numpy.png)\n",
    "\n",
    "En la consola usual de Ipython, se muestra el menú en la pantalla no como lo muestra la imagen que es tomada de **Jupyter Notebook**."
   ]
  },
  {
   "cell_type": "markdown",
   "metadata": {},
   "source": [
    "Para consultar información o ayuda (help), sobre las funciones, variables o módulos, se puede hacer uso de los  cáracteres *'?'* y '*'. "
   ]
  },
  {
   "cell_type": "markdown",
   "metadata": {},
   "source": [
    "Si se ejecutan en la consola alguno de las siguientes líneas de código, se muestra una descripción con la información del módulo y de la variable, respectivamente."
   ]
  },
  {
   "cell_type": "code",
   "execution_count": 10,
   "metadata": {
    "collapsed": true
   },
   "outputs": [],
   "source": [
    "np.*z*?"
   ]
  },
  {
   "cell_type": "code",
   "execution_count": 11,
   "metadata": {
    "collapsed": true
   },
   "outputs": [],
   "source": [
    "a?"
   ]
  },
  {
   "cell_type": "markdown",
   "metadata": {},
   "source": [
    "Lo que se muestra cuando se ejecuta en la consola el comando **np.\\*z\\*?** es un desplegado de los objetos o elementos en numpy que tienen una **z** en sus nombre ![imagen](Imagenes/Z.png). Tanto el **'*'** como **?** funcionan como se trabaja con la consola de Unix o Linux."
   ]
  },
  {
   "cell_type": "markdown",
   "metadata": {},
   "source": [
    "Varios de los comandos usuales en las consolas pueden ser usados desde el entorno, ejemplo para cambiar de directorio **cd**, para ver la lista de archivos o directorios del lugar donde uno se encuentra **ls**, etc. Para hacer uso de algún comando del sistema o programa del sistema, se debe de agregar '!'. Ejemplo,  si se desea ver todo el manual( o menú) de comandos en la consola de Linux se ejecuta **!man man** "
   ]
  },
  {
   "cell_type": "markdown",
   "metadata": {},
   "source": [
    "El siguiente ejemplo muestra como se puede ver la lista de archivos y directorios."
   ]
  },
  {
   "cell_type": "code",
   "execution_count": 12,
   "metadata": {
    "collapsed": false
   },
   "outputs": [
    {
     "name": "stdout",
     "output_type": "stream",
     "text": [
      "total 504\r\n",
      "drwxrwxr-x 4 dlegorreta dlegorreta   4096 abr 11 22:53 .\r\n",
      "drwxrwxr-x 4 dlegorreta dlegorreta   4096 abr 11 22:50 ..\r\n",
      "-rw-rw-r-- 1 dlegorreta dlegorreta     49 abr  4 18:46 Carga_datos.py\r\n",
      "-rw-rw-r-- 1 dlegorreta dlegorreta 193140 abr 11 18:47 Carga_Pandas.ipynb\r\n",
      "-rw-rw-r-- 1 dlegorreta dlegorreta    191 abr  4 13:13 ejemplo.json\r\n",
      "-rw-rw-r-- 1 dlegorreta dlegorreta 135278 abr 11 18:47 Exploración.ipynb\r\n",
      "drwxrwxr-x 2 dlegorreta dlegorreta   4096 abr  2 14:45 Imagenes\r\n",
      "drwxr-xr-x 2 dlegorreta dlegorreta   4096 abr 11 19:05 .ipynb_checkpoints\r\n",
      "-rw-rw-r-- 1 dlegorreta dlegorreta   1489 abr  5 12:33 Numpy_ex1.py\r\n",
      "-rw-rw-r-- 1 dlegorreta dlegorreta   1532 abr  5 12:32 Numpy_ex1.py~\r\n",
      "-rw-rw-r-- 1 dlegorreta dlegorreta   1687 abr  5 12:33 Numpy_ex1.pyc\r\n",
      "-rw-rw-r-- 1 dlegorreta dlegorreta  98559 abr 11 19:05 Puertos.ipynb\r\n",
      "-rw-rw-r-- 1 dlegorreta dlegorreta  16638 abr 11 22:53 Recorrido_por_Ipython.ipynb\r\n",
      "-rw-rw-r-- 1 dlegorreta dlegorreta    112 abr  1 12:11 Script_1.py~\r\n",
      "-rw-rw-r-- 1 dlegorreta dlegorreta    219 abr  2 14:41 Script.py\r\n",
      "-rw-rw-r-- 1 dlegorreta dlegorreta    220 abr  2 14:41 Script.py~\r\n",
      "-rw-rw-r-- 1 dlegorreta dlegorreta    537 abr  9 21:40 Untitled1.ipynb\r\n",
      "-rw-rw-r-- 1 dlegorreta dlegorreta   2405 abr 10 14:25 Untitled.ipynb\r\n"
     ]
    }
   ],
   "source": [
    "!ls -la"
   ]
  },
  {
   "cell_type": "markdown",
   "metadata": {},
   "source": [
    "Para ver una lista completa de comandos en la consola de linux se pueden consultar en intenet [http://ss64.com/bash/](http://ss64.com/bash/) o para ver la lista de comandos de la consola de windows en [powershell](http://ss64.com/ps/) o en cmd [cmd](http://ss64.com/nt/)."
   ]
  },
  {
   "cell_type": "markdown",
   "metadata": {},
   "source": [
    "Magic Commands\n",
    "--------------\n",
    "\n",
    "Estos comandos son parte central para controlar, probar o ejecutrar código en el entorno. Se puede ver la lista de comandos escribiendo **%magic** o **%quickref**.\n",
    "\n",
    "Un comando que se puede usar para ver las variables que se han definido en el entorno es **%who** y para ver tanto las variables, módulo e información sobre ellas se puede usar **%whos**"
   ]
  },
  {
   "cell_type": "code",
   "execution_count": 13,
   "metadata": {
    "collapsed": false
   },
   "outputs": [
    {
     "name": "stdout",
     "output_type": "stream",
     "text": [
      "Variable        Type                          Data/Info\n",
      "-------------------------------------------------------\n",
      "a               int                           5\n",
      "datos           dict                          n=10\n",
      "datos_muestra   dict                          n=5\n",
      "np              module                        <module 'numpy' from '/ho<...>ages/numpy/__init__.pyc'>\n",
      "randn           builtin_function_or_method    <built-in method randn of<...>object at 0x7fc94ecb0d50>\n"
     ]
    }
   ],
   "source": [
    "%whos"
   ]
  },
  {
   "cell_type": "markdown",
   "metadata": {
    "collapsed": true
   },
   "source": [
    "Un ejemplo usual sobre el uso de los *magic commands*, es mostrar como estimar los tiempos de ejecución o detalles de la cantidad de llamadas a los módulos. El siguiente ejemplo muestra como estimar el tiempo de ejecución. "
   ]
  },
  {
   "cell_type": "code",
   "execution_count": 14,
   "metadata": {
    "collapsed": false
   },
   "outputs": [
    {
     "name": "stdout",
     "output_type": "stream",
     "text": [
      "CPU times: user 0 ns, sys: 0 ns, total: 0 ns\n",
      "Wall time: 355 µs\n"
     ]
    },
    {
     "data": {
      "text/plain": [
       "499500"
      ]
     },
     "execution_count": 14,
     "metadata": {},
     "output_type": "execute_result"
    }
   ],
   "source": [
    "%time sum([i for i in range(1000)])"
   ]
  },
  {
   "cell_type": "code",
   "execution_count": 15,
   "metadata": {
    "collapsed": false
   },
   "outputs": [
    {
     "name": "stdout",
     "output_type": "stream",
     "text": [
      "The slowest run took 4.40 times longer than the fastest. This could mean that an intermediate result is being cached.\n",
      "10000 loops, best of 3: 52 µs per loop\n"
     ]
    }
   ],
   "source": [
    "%timeit sum([i for i in range(1000)])"
   ]
  },
  {
   "cell_type": "markdown",
   "metadata": {},
   "source": [
    "Para conocer más detalles de cada *magic commands*, basta colocar el signo **?** al final del comando para consultar. Ejemplo para conocer información de **%who**, se debe de introducir en la consola así **%who?**.  \n",
    "\n",
    "Se cuenta con varios comando importantes que tienen que ver más con el desarrollo, como el comando **%run** el cual permite  ejecutar código y permanecer en ipython.\n",
    "\n",
    "A modo de ejemplos escribo un script para graficar dos variables que construimos con números aleatorios, este es un ejemplo que se presenta en la galería del módulo [matplotlib](http://matplotlib.org/gallery.html). El código dentro de Script.py será:\n",
    "~~~python\n",
    "import time\n",
    "import numpy as np\n",
    "import matplotlib.pyplot as plt\n",
    "\n",
    "a=np.random.randn(50)\n",
    "b=np.random.randn(50)\n",
    "color=np.random.rand(50)\n",
    "plt.scatter(a,b,c=color,alpha=0.5)\n",
    "plt.show()\n",
    "~~~\n",
    "\n",
    "Para hacer el Script se ejecuta la siguiente línea.\n",
    "\n",
    "*Nota: el módulo matplotlib es sumamente importante para constuir gráficas o interfaces con gráficos, pero otro módulo sumamente util para la exploración de datos es [Seaborn](https://stanford.edu/~mwaskom/software/seaborn/index.html).* "
   ]
  },
  {
   "cell_type": "code",
   "execution_count": 16,
   "metadata": {
    "collapsed": false
   },
   "outputs": [],
   "source": [
    "!gedit Script.py"
   ]
  },
  {
   "cell_type": "markdown",
   "metadata": {},
   "source": [
    "Emergerá el editor gedit y escribimos el código en el archivo.\n",
    "\n",
    "![archivo](Imagenes/Script.png).\n",
    "\n",
    "Despues ejecutamos el Script desde la consola de ipython haciendo uso de **%run**"
   ]
  },
  {
   "cell_type": "code",
   "execution_count": 17,
   "metadata": {
    "collapsed": false
   },
   "outputs": [
    {
     "name": "stderr",
     "output_type": "stream",
     "text": [
      "/home/dlegorreta/anaconda2/lib/python2.7/site-packages/matplotlib/font_manager.py:273: UserWarning: Matplotlib is building the font cache using fc-list. This may take a moment.\n",
      "  warnings.warn('Matplotlib is building the font cache using fc-list. This may take a moment.')\n"
     ]
    }
   ],
   "source": [
    "%run Script.py"
   ]
  },
  {
   "cell_type": "markdown",
   "metadata": {},
   "source": [
    "Lo que regresa el Script es una gráfica como el siguiente: \n",
    "\n",
    "![Scatter](Imagenes/Scatter.png)     "
   ]
  },
  {
   "cell_type": "markdown",
   "metadata": {},
   "source": [
    "Con este breve recorrido se puede empezar a trabajar sobre Ipython, para mayor información o detalles técnicas se puede consultar el sitio del módulo https://ipython.readthedocs.org/en/stable/\n",
    "\n",
    "Desde el 2014 el shell o consola de Ipython pasó a formar parte del proyecto **Jupyter**, el cual de cierto modo es la versión moderna de ipython e ipython notebook, que de hecho es sobre el cual está escrito este breve tutorial. Para mayor información se puede consultar la página del proyecto [Jupyter](https://jupyter.org)"
   ]
  }
 ],
 "metadata": {
  "kernelspec": {
   "display_name": "Python 2",
   "language": "python",
   "name": "python2"
  },
  "language_info": {
   "codemirror_mode": {
    "name": "ipython",
    "version": 2
   },
   "file_extension": ".py",
   "mimetype": "text/x-python",
   "name": "python",
   "nbconvert_exporter": "python",
   "pygments_lexer": "ipython2",
   "version": "2.7.11"
  }
 },
 "nbformat": 4,
 "nbformat_minor": 0
}
